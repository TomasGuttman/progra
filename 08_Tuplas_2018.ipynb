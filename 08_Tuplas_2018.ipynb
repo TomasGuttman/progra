{
 "cells": [
  {
   "cell_type": "markdown",
   "metadata": {
    "slideshow": {
     "slide_type": "slide"
    }
   },
   "source": [
    "<img src=\"images/utfsm.png\" alt=\"\" width=\"200px\" align=\"right\"/>\n",
    "\n",
    "<br/>\n",
    "\n",
    "# IWI131 Programación\n",
    "Tuplas<br/>\n",
    "Cristopher Arenas<br/>\n",
    "cristopher.arenas@usm.cl<br/>\n",
    "\n",
    "<br/>\n",
    "Paralelo 204<br/>\n",
    "Campus San Joaquin"
   ]
  },
  {
   "cell_type": "markdown",
   "metadata": {
    "slideshow": {
     "slide_type": "slide"
    }
   },
   "source": [
    "## Tuplas"
   ]
  },
  {
   "cell_type": "markdown",
   "metadata": {
    "slideshow": {
     "slide_type": "fragment"
    }
   },
   "source": [
    "- Es una secuencia de valores agrupados.\n",
    "- No puede modificarse una vez creado (tipo de dato **no mutable**)"
   ]
  },
  {
   "cell_type": "markdown",
   "metadata": {
    "slideshow": {
     "slide_type": "subslide"
    }
   },
   "source": [
    "### Creación de tuplas\n",
    "- Usando paréntesis ()\n",
    "- Usando la función `tuple`"
   ]
  },
  {
   "cell_type": "code",
   "execution_count": null,
   "metadata": {
    "slideshow": {
     "slide_type": "fragment"
    }
   },
   "outputs": [],
   "source": [
    "a = (1,2)\n",
    "print a"
   ]
  },
  {
   "cell_type": "code",
   "execution_count": null,
   "metadata": {
    "slideshow": {
     "slide_type": "slide"
    }
   },
   "outputs": [],
   "source": [
    "#convertir la lista [1,5] a tupla\n",
    "a = tuple([1,5])\n",
    "print a\n",
    "#convertir la cadena de texto \"abc\" a tupla\n",
    "b = tuple(\"abc\")\n",
    "print b"
   ]
  },
  {
   "cell_type": "markdown",
   "metadata": {
    "slideshow": {
     "slide_type": "slide"
    }
   },
   "source": [
    "### No mutables\n",
    "Una tupla no puede modificarse una vez que ha sido creada."
   ]
  },
  {
   "cell_type": "code",
   "execution_count": null,
   "metadata": {},
   "outputs": [],
   "source": [
    "#creando una tupla nueva\n",
    "a = (3, 5)\n",
    "#no se puede hacer esto\n",
    "a[1] = 3"
   ]
  },
  {
   "cell_type": "markdown",
   "metadata": {
    "slideshow": {
     "slide_type": "slide"
    }
   },
   "source": [
    "### Desempaquetado de tuplas\n",
    "- Para obtener los valores de las tuplas, se puede extraer el valor de cada componente y guardarlo en variables."
   ]
  },
  {
   "cell_type": "code",
   "execution_count": null,
   "metadata": {
    "slideshow": {
     "slide_type": "fragment"
    }
   },
   "outputs": [],
   "source": [
    "coordenada = (3,4)\n",
    "x,y = coordenada\n",
    "print \"x =\",x\n",
    "print \"y =\",y"
   ]
  },
  {
   "cell_type": "code",
   "execution_count": null,
   "metadata": {
    "slideshow": {
     "slide_type": "fragment"
    }
   },
   "outputs": [],
   "source": [
    "coordenada = (3,4,6)\n",
    "y,x,z = coordenada\n",
    "print \"x =\",x\n",
    "print \"y =\",y\n",
    "print \"z =\",z"
   ]
  },
  {
   "cell_type": "code",
   "execution_count": null,
   "metadata": {
    "slideshow": {
     "slide_type": "slide"
    }
   },
   "outputs": [],
   "source": [
    "coordenada = (3,4,6)\n",
    "#usando guion bajo se evita definir todas las variables necesarias\n",
    "a,_,_ = coordenada\n",
    "print \"a =\",a"
   ]
  },
  {
   "cell_type": "markdown",
   "metadata": {
    "slideshow": {
     "slide_type": "slide"
    }
   },
   "source": [
    "### Comparación de tuplas\n",
    "- Dos tuplas son iguales cuando tienen el mismo tamaño y cada uno de sus elementos i-ésimos tiene el mismo valor."
   ]
  },
  {
   "cell_type": "code",
   "execution_count": null,
   "metadata": {
    "slideshow": {
     "slide_type": "fragment"
    }
   },
   "outputs": [],
   "source": [
    "(1,2) == (1,2)"
   ]
  },
  {
   "cell_type": "markdown",
   "metadata": {
    "slideshow": {
     "slide_type": "fragment"
    }
   },
   "source": [
    "¿Cómo comparar otros casos?"
   ]
  },
  {
   "cell_type": "code",
   "execution_count": null,
   "metadata": {
    "slideshow": {
     "slide_type": "fragment"
    }
   },
   "outputs": [],
   "source": [
    "(2,3,5) < (1,3,5)"
   ]
  },
  {
   "cell_type": "code",
   "execution_count": null,
   "metadata": {
    "slideshow": {
     "slide_type": "fragment"
    }
   },
   "outputs": [],
   "source": [
    "(1,2,5) > (1,1,6)"
   ]
  },
  {
   "cell_type": "code",
   "execution_count": null,
   "metadata": {
    "slideshow": {
     "slide_type": "fragment"
    }
   },
   "outputs": [],
   "source": [
    "(1,5) > (1,5,4)"
   ]
  },
  {
   "cell_type": "code",
   "execution_count": null,
   "metadata": {
    "slideshow": {
     "slide_type": "fragment"
    }
   },
   "outputs": [],
   "source": [
    "(1,5) > (1,1,1)"
   ]
  },
  {
   "cell_type": "markdown",
   "metadata": {
    "slideshow": {
     "slide_type": "slide"
    }
   },
   "source": [
    "### Ejemplos de uso de tuplas"
   ]
  },
  {
   "cell_type": "code",
   "execution_count": null,
   "metadata": {
    "slideshow": {
     "slide_type": "fragment"
    }
   },
   "outputs": [],
   "source": [
    "posicion_alfil = (7, 6)\n",
    "alumno = (\"Fulano\", \"De Tal\", \"201199001-1\")\n",
    "carta = (5, \"corazones\")\n",
    "fecha = (2011, 4, 12)\n",
    "triangulo = ((5, 1), (2, 4), (-2, 0))\n",
    "personaje = (\"Arturo Prat\", (1848, 4, 3), (1879, 5, 21))"
   ]
  },
  {
   "cell_type": "markdown",
   "metadata": {
    "slideshow": {
     "slide_type": "slide"
    }
   },
   "source": [
    "### Listas de tuplas"
   ]
  },
  {
   "cell_type": "code",
   "execution_count": null,
   "metadata": {
    "slideshow": {
     "slide_type": "fragment"
    }
   },
   "outputs": [],
   "source": [
    "ramos = [(\"Progra\", \"IWI131\", 3),\n",
    "         (\"Mate\", \"MAT021\", 5),\n",
    "         (\"Fisica\", \"FIS100\", 3),\n",
    "         (\"Ed. Fisica\", \"EFI100\", 1),\n",
    "         (\"Inmanente\", \"HRW102\", 2)]\n",
    "\n",
    "for ramo in ramos:\n",
    "    nombre, sigla, c = ramo\n",
    "    print nombre, \"tiene\", c, \"creditos\""
   ]
  },
  {
   "cell_type": "code",
   "execution_count": null,
   "metadata": {
    "slideshow": {
     "slide_type": "slide"
    }
   },
   "outputs": [],
   "source": [
    "ramos = [(\"Progra\", \"IWI131\", 3),\n",
    "         (\"Mate\", \"MAT021\", 5),\n",
    "         (\"Fisica\", \"FIS100\", 3),\n",
    "         (\"Ed. Fisica\", \"EFI100\", 1),\n",
    "         (\"Inmanente\", \"HRW102\", 2)]\n",
    "\n",
    "for nombre, sigla, c in ramos:\n",
    "    print nombre, \"tiene\", c, \"creditos\""
   ]
  },
  {
   "cell_type": "markdown",
   "metadata": {
    "slideshow": {
     "slide_type": "slide"
    }
   },
   "source": [
    "### Ejercicios"
   ]
  },
  {
   "cell_type": "markdown",
   "metadata": {
    "slideshow": {
     "slide_type": "fragment"
    }
   },
   "source": [
    "1. Escriba una función `distancia(p1, p2)` que retorne la distancia entre los puntos `p1` y `p2`. \n",
    "```python\n",
    ">>> a = (5.1, 7.3)\n",
    ">>> b = (1.1, 2.8)\n",
    ">>> distancia(a, b)\n",
    "6.020797289396148\n",
    "```"
   ]
  },
  {
   "cell_type": "markdown",
   "metadata": {
    "slideshow": {
     "slide_type": "slide"
    }
   },
   "source": [
    "2. Un polígono está determinado por la lista de sus vértices. Escriba la función `perimetro(vertices)` que entregue el perímetro del polígono definido por la lista `vertices`.\n",
    "```python\n",
    ">>> p = [(4,1), (7, 2), (7, 4), (5, 9)]\n",
    ">>> perimetro(p)\n",
    "18.609700215601432\n",
    "```"
   ]
  },
  {
   "cell_type": "code",
   "execution_count": null,
   "metadata": {
    "slideshow": {
     "slide_type": "skip"
    }
   },
   "outputs": [],
   "source": []
  }
 ],
 "metadata": {
  "anaconda-cloud": {},
  "celltoolbar": "Slideshow",
  "kernelspec": {
   "display_name": "Python 2",
   "language": "python",
   "name": "python2"
  },
  "language_info": {
   "codemirror_mode": {
    "name": "ipython",
    "version": 2
   },
   "file_extension": ".py",
   "mimetype": "text/x-python",
   "name": "python",
   "nbconvert_exporter": "python",
   "pygments_lexer": "ipython2",
   "version": "2.7.15rc1"
  }
 },
 "nbformat": 4,
 "nbformat_minor": 1
}
