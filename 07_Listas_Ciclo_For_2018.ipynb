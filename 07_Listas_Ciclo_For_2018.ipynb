{
 "cells": [
  {
   "cell_type": "markdown",
   "metadata": {
    "slideshow": {
     "slide_type": "slide"
    }
   },
   "source": [
    "<img src=\"images/utfsm.png\" alt=\"\" width=\"200px\" align=\"right\"/>\n",
    "\n",
    "<br/>\n",
    "\n",
    "# IWI131 Programación\n",
    "Listas - Ciclo for<br/>\n",
    "Cristopher Arenas<br/>\n",
    "cristopher.arenas@usm.cl<br/>\n",
    "\n",
    "<br/>\n",
    "Paralelo 204<br/>\n",
    "Campus San Joaquin"
   ]
  },
  {
   "cell_type": "markdown",
   "metadata": {
    "collapsed": true,
    "slideshow": {
     "slide_type": "slide"
    }
   },
   "source": [
    "## Listas"
   ]
  },
  {
   "cell_type": "markdown",
   "metadata": {
    "slideshow": {
     "slide_type": "fragment"
    }
   },
   "source": [
    "- Colección o secuencia de valores\n",
    "- Pueden contener básicamente cualquier cosa"
   ]
  },
  {
   "cell_type": "markdown",
   "metadata": {
    "slideshow": {
     "slide_type": "fragment"
    }
   },
   "source": [
    "### Creación de Listas\n",
    "- Usando corchetes []\n",
    "- Usando la función `list()`"
   ]
  },
  {
   "cell_type": "markdown",
   "metadata": {
    "slideshow": {
     "slide_type": "slide"
    }
   },
   "source": [
    "##### Lista vacía"
   ]
  },
  {
   "cell_type": "code",
   "execution_count": 1,
   "metadata": {
    "slideshow": {
     "slide_type": "fragment"
    }
   },
   "outputs": [
    {
     "name": "stdout",
     "output_type": "stream",
     "text": [
      "[]\n",
      "[]\n"
     ]
    }
   ],
   "source": [
    "a = []\n",
    "b = list()\n",
    "print a\n",
    "print b"
   ]
  },
  {
   "cell_type": "markdown",
   "metadata": {
    "slideshow": {
     "slide_type": "slide"
    }
   },
   "source": [
    "##### Lista con elementos"
   ]
  },
  {
   "cell_type": "code",
   "execution_count": 2,
   "metadata": {
    "slideshow": {
     "slide_type": "fragment"
    }
   },
   "outputs": [
    {
     "name": "stdout",
     "output_type": "stream",
     "text": [
      "[1, 2, 3, 4]\n",
      "['h', 2, [1, 2], '3']\n"
     ]
    }
   ],
   "source": [
    "a = [1,2,3,4]\n",
    "palabra = \"hola\"\n",
    "b = list([palabra[0],2,[1,2],'3'])\n",
    "print a\n",
    "print b"
   ]
  },
  {
   "cell_type": "markdown",
   "metadata": {
    "slideshow": {
     "slide_type": "slide"
    }
   },
   "source": [
    "¿Qué hace la siguiente operación?"
   ]
  },
  {
   "cell_type": "code",
   "execution_count": 3,
   "metadata": {
    "slideshow": {
     "slide_type": "fragment"
    }
   },
   "outputs": [
    {
     "name": "stdout",
     "output_type": "stream",
     "text": [
      "['a', 'b', 'c']\n"
     ]
    }
   ],
   "source": [
    "c = list(\"abc\")\n",
    "print c"
   ]
  },
  {
   "cell_type": "code",
   "execution_count": 4,
   "metadata": {
    "slideshow": {
     "slide_type": "fragment"
    }
   },
   "outputs": [
    {
     "name": "stdout",
     "output_type": "stream",
     "text": [
      "[1, 2, 3, 4]\n"
     ]
    }
   ],
   "source": [
    "d = list([1,2,3,4])\n",
    "print d"
   ]
  },
  {
   "cell_type": "markdown",
   "metadata": {
    "slideshow": {
     "slide_type": "slide"
    }
   },
   "source": [
    "### Agregando un elemento\n",
    "- Para agregar un elemento, la lista posee un `método` (una función que es llamada por una estructura, como por ejemplo una lista) llamado `append`. \n",
    "- Usando `append`, se agregará un elemento al final de la lista."
   ]
  },
  {
   "cell_type": "code",
   "execution_count": 8,
   "metadata": {
    "slideshow": {
     "slide_type": "fragment"
    }
   },
   "outputs": [
    {
     "name": "stdout",
     "output_type": "stream",
     "text": [
      "lista antes de agregar un elemento\n",
      "[1, 2, 3, 4]\n",
      "lista despues de agregar un elemento\n",
      "[1, 2, 3, 4, ['4', '2', '3']]\n"
     ]
    }
   ],
   "source": [
    "a = [1,2,3,4]\n",
    "print \"lista antes de agregar un elemento\"\n",
    "print a\n",
    "#agregar un 4 al final de la lista\n",
    "a.append(list(\"423\"))\n",
    "print \"lista despues de agregar un elemento\"\n",
    "print a"
   ]
  },
  {
   "cell_type": "markdown",
   "metadata": {
    "slideshow": {
     "slide_type": "slide"
    }
   },
   "source": [
    "- Usando el método `insert` se puede agregar un elemento en la lista en la posición i-ésima ingresada como parámetro."
   ]
  },
  {
   "cell_type": "code",
   "execution_count": 9,
   "metadata": {
    "slideshow": {
     "slide_type": "fragment"
    }
   },
   "outputs": [
    {
     "name": "stdout",
     "output_type": "stream",
     "text": [
      "lista antes de agregar un elemento\n",
      "[1, 2, 3, 4]\n",
      "lista despues de agregar un elemento\n",
      "[1, 2, 10, 3, 4]\n"
     ]
    }
   ],
   "source": [
    "a = [1,2,3,4]\n",
    "print \"lista antes de agregar un elemento\"\n",
    "print a\n",
    "#agregar un 10 en a[2]\n",
    "a.insert(2,10)\n",
    "print \"lista despues de agregar un elemento\"\n",
    "print a"
   ]
  },
  {
   "cell_type": "markdown",
   "metadata": {
    "slideshow": {
     "slide_type": "slide"
    }
   },
   "source": [
    "### Funciones que aceptan listas como parámetros"
   ]
  },
  {
   "cell_type": "markdown",
   "metadata": {
    "slideshow": {
     "slide_type": "fragment"
    }
   },
   "source": [
    "##### Longitud de una lista\n",
    "La función `len(lista)` entrega la cantidad de elementos de la lista ingresada como parámetro."
   ]
  },
  {
   "cell_type": "code",
   "execution_count": 10,
   "metadata": {
    "slideshow": {
     "slide_type": "fragment"
    }
   },
   "outputs": [
    {
     "name": "stdout",
     "output_type": "stream",
     "text": [
      "La cantidad de elementos de la lista es 4\n"
     ]
    }
   ],
   "source": [
    "a = [1,2,3,4]\n",
    "c = len(a)\n",
    "print \"La cantidad de elementos de la lista es\",c"
   ]
  },
  {
   "cell_type": "code",
   "execution_count": 11,
   "metadata": {
    "slideshow": {
     "slide_type": "fragment"
    }
   },
   "outputs": [
    {
     "name": "stdout",
     "output_type": "stream",
     "text": [
      "La cantidad de elementos de la lista es 1\n"
     ]
    }
   ],
   "source": [
    "b = [[1,2,3,4]]\n",
    "d = len(b)\n",
    "print \"La cantidad de elementos de la lista es\",d"
   ]
  },
  {
   "cell_type": "markdown",
   "metadata": {
    "slideshow": {
     "slide_type": "slide"
    }
   },
   "source": [
    "¿Qué ocurre con la cantidad de elementos de las listas vacías?"
   ]
  },
  {
   "cell_type": "code",
   "execution_count": 12,
   "metadata": {
    "slideshow": {
     "slide_type": "fragment"
    }
   },
   "outputs": [
    {
     "name": "stdout",
     "output_type": "stream",
     "text": [
      "0\n"
     ]
    }
   ],
   "source": [
    "print len([])"
   ]
  },
  {
   "cell_type": "code",
   "execution_count": 13,
   "metadata": {
    "slideshow": {
     "slide_type": "fragment"
    }
   },
   "outputs": [
    {
     "name": "stdout",
     "output_type": "stream",
     "text": [
      "0\n"
     ]
    }
   ],
   "source": [
    "print len(list())"
   ]
  },
  {
   "cell_type": "markdown",
   "metadata": {
    "slideshow": {
     "slide_type": "slide"
    }
   },
   "source": [
    "##### Suma de los valores de una lista\n",
    "Usando la función `sum(lista)`, se puede determinar la suma de los elementos de una lista."
   ]
  },
  {
   "cell_type": "code",
   "execution_count": 14,
   "metadata": {
    "slideshow": {
     "slide_type": "fragment"
    }
   },
   "outputs": [
    {
     "data": {
      "text/plain": [
       "9"
      ]
     },
     "execution_count": 14,
     "metadata": {},
     "output_type": "execute_result"
    }
   ],
   "source": [
    "sum([1,5,3])"
   ]
  },
  {
   "cell_type": "code",
   "execution_count": 18,
   "metadata": {
    "slideshow": {
     "slide_type": "fragment"
    }
   },
   "outputs": [
    {
     "data": {
      "text/plain": [
       "9.4"
      ]
     },
     "execution_count": 18,
     "metadata": {},
     "output_type": "execute_result"
    }
   ],
   "source": [
    "sum([1.0,5.4,3])"
   ]
  },
  {
   "cell_type": "markdown",
   "metadata": {
    "slideshow": {
     "slide_type": "fragment"
    }
   },
   "source": [
    "¿Que hace el siguiente programa?"
   ]
  },
  {
   "cell_type": "code",
   "execution_count": 19,
   "metadata": {
    "slideshow": {
     "slide_type": "fragment"
    }
   },
   "outputs": [
    {
     "name": "stdout",
     "output_type": "stream",
     "text": [
      "3\n"
     ]
    }
   ],
   "source": [
    "b = 5\n",
    "a = [1,2,4,b]\n",
    "c = sum(a)/len(a)\n",
    "print c"
   ]
  },
  {
   "cell_type": "markdown",
   "metadata": {
    "slideshow": {
     "slide_type": "slide"
    }
   },
   "source": [
    "### Operaciones sobre listas"
   ]
  },
  {
   "cell_type": "markdown",
   "metadata": {
    "slideshow": {
     "slide_type": "fragment"
    }
   },
   "source": [
    "Algunas operaciones de listas son análogas a las operaciones de strings:\n",
    "\n",
    "- Concatenación de lista (`+`)\n",
    "- Obtener i-ésimo *elemento* de una lista\n",
    "- Verificar si un *elemento* está contenido en la lista"
   ]
  },
  {
   "cell_type": "markdown",
   "metadata": {
    "slideshow": {
     "slide_type": "slide"
    }
   },
   "source": [
    "#### Concatenación de listas\n",
    "El operador suma (+) permite juntar dos listas"
   ]
  },
  {
   "cell_type": "code",
   "execution_count": 21,
   "metadata": {
    "slideshow": {
     "slide_type": "fragment"
    }
   },
   "outputs": [
    {
     "name": "stdout",
     "output_type": "stream",
     "text": [
      "[1, 2, 3, 4, 6, 8]\n",
      "[4, 6, 8, 1, 2, 3]\n"
     ]
    }
   ],
   "source": [
    "a = [1,2,3]\n",
    "b = [4,6,8]\n",
    "c = a + b\n",
    "d = b + a\n",
    "print c\n",
    "print d"
   ]
  },
  {
   "cell_type": "code",
   "execution_count": 22,
   "metadata": {
    "slideshow": {
     "slide_type": "fragment"
    }
   },
   "outputs": [
    {
     "data": {
      "text/plain": [
       "[1, 2, 2, 6]"
      ]
     },
     "execution_count": 22,
     "metadata": {},
     "output_type": "execute_result"
    }
   ],
   "source": [
    "[1,2] + [2,6]"
   ]
  },
  {
   "cell_type": "markdown",
   "metadata": {
    "slideshow": {
     "slide_type": "slide"
    }
   },
   "source": [
    "#### Valor i-ésimo de una lista\n",
    "Usando el índice para indicar una posición (de manera similar que con strings)."
   ]
  },
  {
   "cell_type": "code",
   "execution_count": 23,
   "metadata": {
    "slideshow": {
     "slide_type": "fragment"
    }
   },
   "outputs": [
    {
     "name": "stdout",
     "output_type": "stream",
     "text": [
      "2\n"
     ]
    }
   ],
   "source": [
    "a = [1,2,3,4]\n",
    "print a[1]"
   ]
  },
  {
   "cell_type": "code",
   "execution_count": 24,
   "metadata": {
    "slideshow": {
     "slide_type": "fragment"
    }
   },
   "outputs": [
    {
     "ename": "IndexError",
     "evalue": "list index out of range",
     "output_type": "error",
     "traceback": [
      "\u001b[0;31m---------------------------------------------------------------------------\u001b[0m",
      "\u001b[0;31mIndexError\u001b[0m                                Traceback (most recent call last)",
      "\u001b[0;32m<ipython-input-24-7c7cb9812849>\u001b[0m in \u001b[0;36m<module>\u001b[0;34m()\u001b[0m\n\u001b[0;32m----> 1\u001b[0;31m \u001b[0ma\u001b[0m\u001b[0;34m[\u001b[0m\u001b[0;36m10\u001b[0m\u001b[0;34m]\u001b[0m\u001b[0;34m\u001b[0m\u001b[0m\n\u001b[0m",
      "\u001b[0;31mIndexError\u001b[0m: list index out of range"
     ]
    }
   ],
   "source": [
    "a[10]"
   ]
  },
  {
   "cell_type": "markdown",
   "metadata": {
    "slideshow": {
     "slide_type": "slide"
    }
   },
   "source": [
    "El índice puede ser usado para **modificar** un elemento de la lista"
   ]
  },
  {
   "cell_type": "code",
   "execution_count": 25,
   "metadata": {
    "slideshow": {
     "slide_type": "fragment"
    }
   },
   "outputs": [
    {
     "name": "stdout",
     "output_type": "stream",
     "text": [
      "Lista antes de modificar un elemento por el indice\n",
      "['azul', 'rojo', 'verde', 'amarillo']\n",
      "Lista despues de modificar un elemento por el indice\n",
      "['fucsia', 'rojo', 'verde', 'amarillo']\n"
     ]
    }
   ],
   "source": [
    "colores = [\"azul\", \"rojo\", \"verde\", \"amarillo\"]\n",
    "print \"Lista antes de modificar un elemento por el indice\"\n",
    "print colores\n",
    "colores[0] = \"fucsia\"\n",
    "print \"Lista despues de modificar un elemento por el indice\"\n",
    "print colores"
   ]
  },
  {
   "cell_type": "markdown",
   "metadata": {
    "slideshow": {
     "slide_type": "slide"
    }
   },
   "source": [
    "#### Verificar si elemento se encuentra en la lista\n",
    "La instrucción `in` permite verificar si un elemento está contenido en la lista."
   ]
  },
  {
   "cell_type": "code",
   "execution_count": 26,
   "metadata": {
    "slideshow": {
     "slide_type": "fragment"
    }
   },
   "outputs": [],
   "source": [
    "a = [1,2,3,4]"
   ]
  },
  {
   "cell_type": "code",
   "execution_count": 27,
   "metadata": {
    "slideshow": {
     "slide_type": "fragment"
    }
   },
   "outputs": [
    {
     "data": {
      "text/plain": [
       "True"
      ]
     },
     "execution_count": 27,
     "metadata": {},
     "output_type": "execute_result"
    }
   ],
   "source": [
    "10 not in a"
   ]
  },
  {
   "cell_type": "code",
   "execution_count": 28,
   "metadata": {
    "slideshow": {
     "slide_type": "fragment"
    }
   },
   "outputs": [
    {
     "data": {
      "text/plain": [
       "False"
      ]
     },
     "execution_count": 28,
     "metadata": {},
     "output_type": "execute_result"
    }
   ],
   "source": [
    "6 in a"
   ]
  },
  {
   "cell_type": "markdown",
   "metadata": {
    "slideshow": {
     "slide_type": "fragment"
    }
   },
   "source": [
    "¿Se muéstra el mensaje en el siguiente ejemplo?"
   ]
  },
  {
   "cell_type": "code",
   "execution_count": 29,
   "metadata": {
    "slideshow": {
     "slide_type": "fragment"
    }
   },
   "outputs": [
    {
     "name": "stdout",
     "output_type": "stream",
     "text": [
      "esta en la lista\n"
     ]
    }
   ],
   "source": [
    "verificar = 3 in a\n",
    "if verificar:\n",
    "    print \"esta en la lista\""
   ]
  },
  {
   "cell_type": "markdown",
   "metadata": {
    "slideshow": {
     "slide_type": "slide"
    }
   },
   "source": [
    "### Operaciones sobre listas (nuevas)"
   ]
  },
  {
   "cell_type": "markdown",
   "metadata": {
    "slideshow": {
     "slide_type": "fragment"
    }
   },
   "source": [
    "Existen otras operaciones para listas, tales como:\n",
    "- Eliminar un elemento de la lista\n",
    "- Obtener el índice de un elemento.\n",
    "- Invertir una lista\n",
    "- Ordenar una lista"
   ]
  },
  {
   "cell_type": "markdown",
   "metadata": {
    "slideshow": {
     "slide_type": "slide"
    }
   },
   "source": [
    "#### Eliminar un elemento de la lista\n",
    "\n",
    "- Utilizando la instrucción `del`, es posible eliminar un elemento de la lista.\n",
    "- Se debe indicar el índice de la lista a eliminar."
   ]
  },
  {
   "cell_type": "code",
   "execution_count": 30,
   "metadata": {
    "slideshow": {
     "slide_type": "fragment"
    }
   },
   "outputs": [
    {
     "name": "stdout",
     "output_type": "stream",
     "text": [
      "lista antes de eliminar el elemento a[2]\n",
      "[1, 2, 3, 4, 2]\n",
      "lista despues de eliminar a[2]\n",
      "[1, 2, 4, 2]\n",
      "lista despues de eliminar a[-3]\n",
      "[1, 4, 2]\n"
     ]
    }
   ],
   "source": [
    "a = [1,2,3,4,2]\n",
    "print \"lista antes de eliminar el elemento a[2]\"\n",
    "print a\n",
    "del a[2]\n",
    "print \"lista despues de eliminar a[2]\"\n",
    "print a\n",
    "del a[-3]\n",
    "print \"lista despues de eliminar a[-3]\"\n",
    "print a"
   ]
  },
  {
   "cell_type": "markdown",
   "metadata": {
    "slideshow": {
     "slide_type": "slide"
    }
   },
   "source": [
    "##### Índice de un elemento\n",
    "- El método `index` entrega la posición de un elemento en la lista\n",
    "- Si hay más de un elemento en la lista, entrega la posición del primer elemento (sentido izquierda - derecha).\n",
    "- El elemento debe existir."
   ]
  },
  {
   "cell_type": "code",
   "execution_count": 31,
   "metadata": {
    "slideshow": {
     "slide_type": "fragment"
    }
   },
   "outputs": [],
   "source": [
    "a = [1,2,3,4,3]"
   ]
  },
  {
   "cell_type": "code",
   "execution_count": 32,
   "metadata": {
    "slideshow": {
     "slide_type": "fragment"
    }
   },
   "outputs": [
    {
     "data": {
      "text/plain": [
       "2"
      ]
     },
     "execution_count": 32,
     "metadata": {},
     "output_type": "execute_result"
    }
   ],
   "source": [
    "a.index(3)"
   ]
  },
  {
   "cell_type": "code",
   "execution_count": 33,
   "metadata": {
    "slideshow": {
     "slide_type": "fragment"
    }
   },
   "outputs": [
    {
     "ename": "ValueError",
     "evalue": "214 is not in list",
     "output_type": "error",
     "traceback": [
      "\u001b[0;31m---------------------------------------------------------------------------\u001b[0m",
      "\u001b[0;31mValueError\u001b[0m                                Traceback (most recent call last)",
      "\u001b[0;32m<ipython-input-33-732a7ae971c1>\u001b[0m in \u001b[0;36m<module>\u001b[0;34m()\u001b[0m\n\u001b[0;32m----> 1\u001b[0;31m \u001b[0ma\u001b[0m\u001b[0;34m.\u001b[0m\u001b[0mindex\u001b[0m\u001b[0;34m(\u001b[0m\u001b[0;36m214\u001b[0m\u001b[0;34m)\u001b[0m\u001b[0;34m\u001b[0m\u001b[0m\n\u001b[0m",
      "\u001b[0;31mValueError\u001b[0m: 214 is not in list"
     ]
    }
   ],
   "source": [
    "a.index(214)"
   ]
  },
  {
   "cell_type": "markdown",
   "metadata": {
    "slideshow": {
     "slide_type": "slide"
    }
   },
   "source": [
    "¿Cómo se puede asegurar que al usar `index` no habrá error?"
   ]
  },
  {
   "cell_type": "code",
   "execution_count": 38,
   "metadata": {
    "slideshow": {
     "slide_type": "fragment"
    }
   },
   "outputs": [
    {
     "name": "stdout",
     "output_type": "stream",
     "text": [
      "El elemento 3 esta en el indice 2\n"
     ]
    }
   ],
   "source": [
    "if 214 in a:\n",
    "    print \"El elemento 214 esta en el indice\",a.index(214)\n",
    "    \n",
    "if 3 in a:\n",
    "    print \"El elemento 3 esta en el indice\",a.index(3)"
   ]
  },
  {
   "cell_type": "markdown",
   "metadata": {
    "slideshow": {
     "slide_type": "slide"
    }
   },
   "source": [
    "##### Invertir una lista\n",
    "El método `reverse` invierte el orden de los elementos de una lista."
   ]
  },
  {
   "cell_type": "code",
   "execution_count": 39,
   "metadata": {
    "slideshow": {
     "slide_type": "fragment"
    }
   },
   "outputs": [
    {
     "name": "stdout",
     "output_type": "stream",
     "text": [
      "lista antes de invertir\n",
      "[4, 1, 10, 5]\n",
      "lista despues de invertir\n",
      "[5, 10, 1, 4]\n"
     ]
    }
   ],
   "source": [
    "a = [4,1,10,5]\n",
    "print \"lista antes de invertir\"\n",
    "print a\n",
    "a.reverse()\n",
    "print \"lista despues de invertir\"\n",
    "print a"
   ]
  },
  {
   "cell_type": "markdown",
   "metadata": {
    "slideshow": {
     "slide_type": "slide"
    }
   },
   "source": [
    "##### Ordenar una lista\n",
    "El método `sort` ordena los elementos de una lista en orden creciente."
   ]
  },
  {
   "cell_type": "code",
   "execution_count": 40,
   "metadata": {
    "slideshow": {
     "slide_type": "fragment"
    }
   },
   "outputs": [
    {
     "name": "stdout",
     "output_type": "stream",
     "text": [
      "lista antes de ordenar\n",
      "[4, 1, 10, 6]\n",
      "lista despues de ordenar\n",
      "[1, 4, 6, 10]\n"
     ]
    }
   ],
   "source": [
    "a = [4,1,10,6]\n",
    "print \"lista antes de ordenar\"\n",
    "print a\n",
    "a.sort()\n",
    "print \"lista despues de ordenar\"\n",
    "print a"
   ]
  },
  {
   "cell_type": "markdown",
   "metadata": {
    "slideshow": {
     "slide_type": "slide"
    }
   },
   "source": [
    "¿Cómo ordenar los elementos de una lista en orden decreciente?"
   ]
  },
  {
   "cell_type": "code",
   "execution_count": 41,
   "metadata": {
    "slideshow": {
     "slide_type": "fragment"
    }
   },
   "outputs": [
    {
     "name": "stdout",
     "output_type": "stream",
     "text": [
      "lista antes de ordenar\n",
      "[4, 1, 10, 6]\n",
      "lista despues de ordenar\n",
      "[10, 6, 4, 1]\n"
     ]
    }
   ],
   "source": [
    "a = [4,1,10,6]\n",
    "print \"lista antes de ordenar\"\n",
    "print a\n",
    "a.sort()\n",
    "a.reverse()\n",
    "print \"lista despues de ordenar\"\n",
    "print a"
   ]
  },
  {
   "cell_type": "markdown",
   "metadata": {
    "slideshow": {
     "slide_type": "slide"
    }
   },
   "source": [
    "### Rebanado (operador slice)"
   ]
  },
  {
   "cell_type": "markdown",
   "metadata": {
    "slideshow": {
     "slide_type": "fragment"
    }
   },
   "source": [
    "¿Qué hace la siguiente función?"
   ]
  },
  {
   "cell_type": "code",
   "execution_count": 42,
   "metadata": {
    "slideshow": {
     "slide_type": "fragment"
    }
   },
   "outputs": [
    {
     "name": "stdout",
     "output_type": "stream",
     "text": [
      "cas\n",
      "perro\n"
     ]
    }
   ],
   "source": [
    "def ss(s,i,j,k):\n",
    "    a = \"\"\n",
    "    c = i\n",
    "    while c < j:\n",
    "        # a = a + s[c]\n",
    "        a += s[c] \n",
    "        # c = c + k\n",
    "        c += k \n",
    "    return a\n",
    "\n",
    "s1 = \"casa\"\n",
    "s2 = \"aprenrormo\"\n",
    "print ss(s1,0,3,1)\n",
    "print ss(s2,1,len(s2),2)"
   ]
  },
  {
   "cell_type": "code",
   "execution_count": 43,
   "metadata": {
    "slideshow": {
     "slide_type": "slide"
    }
   },
   "outputs": [
    {
     "name": "stdout",
     "output_type": "stream",
     "text": [
      "[1, 3]\n"
     ]
    }
   ],
   "source": [
    "def ss2(s,i,j,k):\n",
    "    a = []\n",
    "    c = i\n",
    "    while c < j:\n",
    "        # a = a + s[c]\n",
    "        a.append(s[c]) \n",
    "        # c = c + k\n",
    "        c += k \n",
    "    return a\n",
    "\n",
    "lista = [1,2,3,4,5,6]\n",
    "l = ss2(lista,0,4,2)\n",
    "print l"
   ]
  },
  {
   "cell_type": "markdown",
   "metadata": {
    "slideshow": {
     "slide_type": "fragment"
    }
   },
   "source": [
    "¿Existirá alguna operación que realice lo mismo que la función `ss2`?"
   ]
  },
  {
   "cell_type": "markdown",
   "metadata": {
    "slideshow": {
     "slide_type": "slide"
    }
   },
   "source": [
    "##### Rebanado\n",
    "Usando notación de rebanado, se puede obtener una lista con algunos elementos de otra lista. Es necesario definir al menos uno de los siguientes valores:\n",
    "- **Inicio:** entero con el índice del primer elemento a obtener desde una lista.\n",
    "- **Fin:** entero con el índice siguiente al elemento que se terminará de obtener de una lista. \n",
    "- **Salto:** entero que derermina el incremento entre cada índice que se obtendrá de la lista."
   ]
  },
  {
   "cell_type": "markdown",
   "metadata": {
    "slideshow": {
     "slide_type": "slide"
    }
   },
   "source": [
    "**Notación**: `lista[inicio:fin:salto]`"
   ]
  },
  {
   "cell_type": "code",
   "execution_count": 44,
   "metadata": {
    "slideshow": {
     "slide_type": "fragment"
    }
   },
   "outputs": [
    {
     "name": "stdout",
     "output_type": "stream",
     "text": [
      "[5, 3, 2, 3, 100, 14]\n"
     ]
    }
   ],
   "source": [
    "a = [1,5,3,8,3,6,4,2,4,10,3,2,10,100,3,14,14,52,38,41,5,13,51,2,5,10]\n",
    "# inicio = 1\n",
    "# fin = 19\n",
    "# salto = 3\n",
    "# crea una lista con los elementos a[1], a[4], a[7], a[10], a[13] y a[16]\n",
    "print a[1:19:3]"
   ]
  },
  {
   "cell_type": "code",
   "execution_count": 54,
   "metadata": {
    "slideshow": {
     "slide_type": "slide"
    }
   },
   "outputs": [
    {
     "name": "stdout",
     "output_type": "stream",
     "text": [
      "[5, 3, 8]\n"
     ]
    }
   ],
   "source": [
    "a = [1,5,3,8,3,6]\n",
    "#se asume que salto = 1\n",
    "print a[1:4]"
   ]
  },
  {
   "cell_type": "code",
   "execution_count": 46,
   "metadata": {
    "slideshow": {
     "slide_type": "fragment"
    }
   },
   "outputs": [
    {
     "name": "stdout",
     "output_type": "stream",
     "text": [
      "[3, 8, 3, 6, 10]\n"
     ]
    }
   ],
   "source": [
    "a = [1,5,3,8,3,6,10]\n",
    "#si se omite el fin, se asume que fin = len(a)\n",
    "print a[2:]"
   ]
  },
  {
   "cell_type": "code",
   "execution_count": 47,
   "metadata": {
    "slideshow": {
     "slide_type": "fragment"
    }
   },
   "outputs": [
    {
     "name": "stdout",
     "output_type": "stream",
     "text": [
      "[1, 5, 3, 8]\n"
     ]
    }
   ],
   "source": [
    "#si se omite el inicio, se asume que se inicio = 0\n",
    "print a[:4]"
   ]
  },
  {
   "cell_type": "code",
   "execution_count": 50,
   "metadata": {
    "slideshow": {
     "slide_type": "slide"
    }
   },
   "outputs": [
    {
     "name": "stdout",
     "output_type": "stream",
     "text": [
      "[1, 5, 3, 8, 3, 6, 10]\n",
      "[10, 6, 3, 8, 3, 5, 1]\n"
     ]
    }
   ],
   "source": [
    "# si se omite inicio y fin se da una combinacion de los dos ejemplos anteriores\n",
    "print a\n",
    "print a[::-1]"
   ]
  },
  {
   "cell_type": "code",
   "execution_count": 51,
   "metadata": {
    "slideshow": {
     "slide_type": "fragment"
    }
   },
   "outputs": [
    {
     "name": "stdout",
     "output_type": "stream",
     "text": [
      "[1, 5, 3, 8, 3, 6, 10]\n"
     ]
    }
   ],
   "source": [
    "a = [1,5,3,8,3,6,10]\n",
    "#esto tambien es posible\n",
    "print a[::]"
   ]
  },
  {
   "cell_type": "code",
   "execution_count": 52,
   "metadata": {
    "slideshow": {
     "slide_type": "fragment"
    }
   },
   "outputs": [
    {
     "name": "stdout",
     "output_type": "stream",
     "text": [
      "[]\n"
     ]
    }
   ],
   "source": [
    "a = [1,5,3,8,3,6,10]\n",
    "#esto tambien es posible\n",
    "print a[5:1:1]"
   ]
  },
  {
   "cell_type": "markdown",
   "metadata": {
    "slideshow": {
     "slide_type": "slide"
    }
   },
   "source": [
    "**Importante:** el rebanado de listas no modifica la lista, sino que genera otra lista que puede ser almacenado en una variable."
   ]
  },
  {
   "cell_type": "code",
   "execution_count": 55,
   "metadata": {
    "slideshow": {
     "slide_type": "fragment"
    }
   },
   "outputs": [
    {
     "name": "stdout",
     "output_type": "stream",
     "text": [
      "Lista antes de realizar el rebanado\n",
      "[1, 5, 3, 8, 3, 6, 10]\n",
      "Lista despues de realizar el rebanado\n",
      "[1, 5, 3, 8, 3, 6, 10]\n",
      "Lista obtenida a partir del rebanado\n",
      "[1, 5, 3, 8]\n"
     ]
    }
   ],
   "source": [
    "a = [1,5,3,8,3,6,10]\n",
    "print \"Lista antes de realizar el rebanado\"\n",
    "print a\n",
    "b = a[:4]\n",
    "print \"Lista despues de realizar el rebanado\"\n",
    "print a\n",
    "print \"Lista obtenida a partir del rebanado\"\n",
    "print b"
   ]
  },
  {
   "cell_type": "code",
   "execution_count": null,
   "metadata": {
    "slideshow": {
     "slide_type": "fragment"
    }
   },
   "outputs": [],
   "source": [
    "#rebanado se almacena en otra variable\n",
    "b = a[3:]\n",
    "print \"a =\",a\n",
    "print \"b =\",b"
   ]
  },
  {
   "cell_type": "markdown",
   "metadata": {
    "slideshow": {
     "slide_type": "slide"
    }
   },
   "source": [
    "### Copiado de listas\n",
    "Es necesario tener precaución cuando se intenta copiar una lista."
   ]
  },
  {
   "cell_type": "code",
   "execution_count": 56,
   "metadata": {
    "slideshow": {
     "slide_type": "fragment"
    }
   },
   "outputs": [
    {
     "name": "stdout",
     "output_type": "stream",
     "text": [
      "a= [1000, '1', '4']\n",
      "b= [1000, '1', '4']\n"
     ]
    }
   ],
   "source": [
    "a = list(\"514\")\n",
    "b = a\n",
    "b[0] = 1000\n",
    "print \"a=\",a\n",
    "print \"b=\",b"
   ]
  },
  {
   "cell_type": "markdown",
   "metadata": {
    "slideshow": {
     "slide_type": "fragment"
    }
   },
   "source": [
    "¿Cómo solucionar el problema anterior?"
   ]
  },
  {
   "cell_type": "code",
   "execution_count": 58,
   "metadata": {
    "slideshow": {
     "slide_type": "fragment"
    }
   },
   "outputs": [
    {
     "name": "stdout",
     "output_type": "stream",
     "text": [
      "a= ['5', '1', '4']\n",
      "b= [1000, '1', '4']\n"
     ]
    }
   ],
   "source": [
    "a = list(\"514\")\n",
    "b = list(a)\n",
    "b[0] = 1000\n",
    "print \"a=\",a\n",
    "print \"b=\",b"
   ]
  },
  {
   "cell_type": "markdown",
   "metadata": {
    "slideshow": {
     "slide_type": "slide"
    }
   },
   "source": [
    "### La función `range`\n",
    "- Entrega una lista con valores ordenados."
   ]
  },
  {
   "cell_type": "code",
   "execution_count": 59,
   "metadata": {
    "slideshow": {
     "slide_type": "fragment"
    }
   },
   "outputs": [
    {
     "data": {
      "text/plain": [
       "[0, 1, 2, 3, 4]"
      ]
     },
     "execution_count": 59,
     "metadata": {},
     "output_type": "execute_result"
    }
   ],
   "source": [
    "range(5)"
   ]
  },
  {
   "cell_type": "code",
   "execution_count": 60,
   "metadata": {
    "slideshow": {
     "slide_type": "fragment"
    }
   },
   "outputs": [
    {
     "data": {
      "text/plain": [
       "[2, 3, 4, 5, 6]"
      ]
     },
     "execution_count": 60,
     "metadata": {},
     "output_type": "execute_result"
    }
   ],
   "source": [
    "range(2,7)"
   ]
  },
  {
   "cell_type": "code",
   "execution_count": 61,
   "metadata": {
    "slideshow": {
     "slide_type": "fragment"
    }
   },
   "outputs": [
    {
     "data": {
      "text/plain": [
       "[0, 2, 4, 6, 8]"
      ]
     },
     "execution_count": 61,
     "metadata": {},
     "output_type": "execute_result"
    }
   ],
   "source": [
    "range(0,10,2)"
   ]
  },
  {
   "cell_type": "code",
   "execution_count": 62,
   "metadata": {
    "slideshow": {
     "slide_type": "fragment"
    }
   },
   "outputs": [
    {
     "data": {
      "text/plain": [
       "[2, 5, 8, 11]"
      ]
     },
     "execution_count": 62,
     "metadata": {},
     "output_type": "execute_result"
    }
   ],
   "source": [
    "range(2,12,3)"
   ]
  },
  {
   "cell_type": "code",
   "execution_count": 64,
   "metadata": {
    "slideshow": {
     "slide_type": "fragment"
    }
   },
   "outputs": [
    {
     "data": {
      "text/plain": [
       "[10, 9, 8, 7, 6]"
      ]
     },
     "execution_count": 64,
     "metadata": {},
     "output_type": "execute_result"
    }
   ],
   "source": [
    "range(10,5,-1)"
   ]
  },
  {
   "cell_type": "code",
   "execution_count": 65,
   "metadata": {
    "slideshow": {
     "slide_type": "fragment"
    }
   },
   "outputs": [
    {
     "data": {
      "text/plain": [
       "[]"
      ]
     },
     "execution_count": 65,
     "metadata": {},
     "output_type": "execute_result"
    }
   ],
   "source": [
    "range(10,5,1)"
   ]
  },
  {
   "cell_type": "markdown",
   "metadata": {
    "slideshow": {
     "slide_type": "slide"
    }
   },
   "source": [
    "## Ciclo `for`\n",
    "- Repite sentencias una cantidad **fija** de veces.\n",
    "- Funciona sobre elementos **iterables**"
   ]
  },
  {
   "cell_type": "markdown",
   "metadata": {
    "slideshow": {
     "slide_type": "fragment"
    }
   },
   "source": [
    "¿Qué es un elemento iterable?"
   ]
  },
  {
   "cell_type": "markdown",
   "metadata": {
    "slideshow": {
     "slide_type": "fragment"
    }
   },
   "source": [
    "Es un elemento que se puede **iterar** o recorrer cada uno de sus \"componentes\" por medio de un ciclo."
   ]
  },
  {
   "cell_type": "markdown",
   "metadata": {
    "slideshow": {
     "slide_type": "fragment"
    }
   },
   "source": [
    "**Sintaxis**\n",
    "```Python\n",
    "for variable in iterable:\n",
    "    #codigo\n",
    "    a = operacion(variable)\n",
    "```"
   ]
  },
  {
   "cell_type": "code",
   "execution_count": null,
   "metadata": {
    "slideshow": {
     "slide_type": "slide"
    }
   },
   "outputs": [],
   "source": [
    "texto = \"palabra\"\n",
    "lista = [1,4,\"s\",[1,5]]"
   ]
  },
  {
   "cell_type": "code",
   "execution_count": null,
   "metadata": {
    "slideshow": {
     "slide_type": "fragment"
    }
   },
   "outputs": [],
   "source": [
    "for pal in texto:\n",
    "    print \"pal =\",pal"
   ]
  },
  {
   "cell_type": "code",
   "execution_count": null,
   "metadata": {
    "slideshow": {
     "slide_type": "fragment"
    }
   },
   "outputs": [],
   "source": [
    "for elem in lista:\n",
    "    print \"elem =\",elem"
   ]
  },
  {
   "cell_type": "code",
   "execution_count": null,
   "metadata": {
    "slideshow": {
     "slide_type": "slide"
    }
   },
   "outputs": [],
   "source": [
    "numero = 543\n",
    "numero2 = 4.32"
   ]
  },
  {
   "cell_type": "code",
   "execution_count": null,
   "metadata": {
    "slideshow": {
     "slide_type": "fragment"
    }
   },
   "outputs": [],
   "source": [
    "for var in numero:\n",
    "    print \"var =\",var"
   ]
  },
  {
   "cell_type": "code",
   "execution_count": null,
   "metadata": {
    "slideshow": {
     "slide_type": "fragment"
    }
   },
   "outputs": [],
   "source": [
    "for var in numero2:\n",
    "    print \"var =\",var"
   ]
  },
  {
   "cell_type": "markdown",
   "metadata": {
    "slideshow": {
     "slide_type": "slide"
    }
   },
   "source": [
    "### Utilizando `range` en un ciclo `for`"
   ]
  },
  {
   "cell_type": "code",
   "execution_count": null,
   "metadata": {
    "slideshow": {
     "slide_type": "fragment"
    }
   },
   "outputs": [],
   "source": [
    "suma = 0\n",
    "for k in range(3,6):\n",
    "    suma += k**2\n",
    "print suma"
   ]
  },
  {
   "cell_type": "code",
   "execution_count": null,
   "metadata": {
    "slideshow": {
     "slide_type": "fragment"
    }
   },
   "outputs": [],
   "source": [
    "for i in range(5):\n",
    "    print \"hola\",i"
   ]
  },
  {
   "cell_type": "code",
   "execution_count": null,
   "metadata": {
    "slideshow": {
     "slide_type": "fragment"
    }
   },
   "outputs": [],
   "source": [
    "for i in range(2,5):\n",
    "    print i"
   ]
  },
  {
   "cell_type": "markdown",
   "metadata": {
    "slideshow": {
     "slide_type": "slide"
    }
   },
   "source": [
    "### Iterables (hasta el momento):\n",
    "- Strings\n",
    "- Listas"
   ]
  },
  {
   "cell_type": "markdown",
   "metadata": {
    "slideshow": {
     "slide_type": "slide"
    }
   },
   "source": [
    "## Equivalencia entre ciclo `while` y ciclo `for`\n",
    "¿Son equivalentes los siguientes códigos?"
   ]
  },
  {
   "cell_type": "code",
   "execution_count": null,
   "metadata": {
    "slideshow": {
     "slide_type": "fragment"
    }
   },
   "outputs": [],
   "source": [
    "contador = 0\n",
    "suma = 0\n",
    "while contador < 5:\n",
    "    suma += contador\n",
    "    contador += 1\n",
    "print \"La suma es igual a\",suma"
   ]
  },
  {
   "cell_type": "code",
   "execution_count": null,
   "metadata": {
    "slideshow": {
     "slide_type": "fragment"
    }
   },
   "outputs": [],
   "source": [
    "suma = 0\n",
    "for i in range(5):\n",
    "    suma += i\n",
    "print \"La suma es igual a\",suma"
   ]
  },
  {
   "cell_type": "markdown",
   "metadata": {
    "slideshow": {
     "slide_type": "slide"
    }
   },
   "source": [
    "### Iteración de listas usando ciclo `while` y ciclo `for`"
   ]
  },
  {
   "cell_type": "code",
   "execution_count": null,
   "metadata": {
    "slideshow": {
     "slide_type": "fragment"
    }
   },
   "outputs": [],
   "source": [
    "ramos = [\"Progra\", \"Mate\", \"Fisica\"]\n",
    "i = 0\n",
    "while i < len(ramos):\n",
    "    print \"Tengo clases de\",ramos[i]\n",
    "    i += 1"
   ]
  },
  {
   "cell_type": "code",
   "execution_count": null,
   "metadata": {
    "slideshow": {
     "slide_type": "fragment"
    }
   },
   "outputs": [],
   "source": [
    "ramos = [\"Progra\", \"Mate\", \"Fisica\"]\n",
    "i = 0\n",
    "for ramo in ramos:\n",
    "    print \"Tengo clases de\",ramo"
   ]
  },
  {
   "cell_type": "code",
   "execution_count": null,
   "metadata": {
    "slideshow": {
     "slide_type": "slide"
    }
   },
   "outputs": [],
   "source": [
    "ramos = [\"Progra\", \"Mate\", \"Fisica\"]\n",
    "horas = [\"8:00\", \"10:00\", \"12:00\"]\n",
    "i = 0\n",
    "while i < len(ramos):\n",
    "    print \"Tengo clases de\",ramos[i],\"a las\", horas[i]\n",
    "    i += 1"
   ]
  },
  {
   "cell_type": "code",
   "execution_count": null,
   "metadata": {
    "slideshow": {
     "slide_type": "fragment"
    }
   },
   "outputs": [],
   "source": [
    "ramos = [\"Progra\", \"Mate\", \"Fisica\"]\n",
    "horas = [\"8:00\", \"10:00\", \"12:00\"]\n",
    "for i in range(len(ramos)):\n",
    "    print \"Tengo clases de\",ramos[i],\"a las\", horas[i]"
   ]
  },
  {
   "cell_type": "code",
   "execution_count": null,
   "metadata": {
    "slideshow": {
     "slide_type": "skip"
    }
   },
   "outputs": [],
   "source": []
  }
 ],
 "metadata": {
  "anaconda-cloud": {},
  "celltoolbar": "Slideshow",
  "kernelspec": {
   "display_name": "Python27",
   "language": "python",
   "name": "python27"
  },
  "language_info": {
   "codemirror_mode": {
    "name": "ipython",
    "version": 2
   },
   "file_extension": ".py",
   "mimetype": "text/x-python",
   "name": "python",
   "nbconvert_exporter": "python",
   "pygments_lexer": "ipython2",
   "version": "2.7.15rc1"
  }
 },
 "nbformat": 4,
 "nbformat_minor": 1
}
