{
 "cells": [
  {
   "cell_type": "markdown",
   "metadata": {
    "slideshow": {
     "slide_type": "slide"
    }
   },
   "source": [
    "\n",
    "<img src=\"images/utfsm.png\" alt=\"\" width=\"200px\" align=\"right\"/>\n",
    "\n",
    "<br/>\n",
    "\n",
    "# IWI131 Programación\n",
    "Diagrama de Flujo<br/>\n",
    "Cristopher Arenas<br/>\n",
    "cristopher.arenas@usm.cl<br/>\n",
    "\n",
    "<br/>\n",
    "Paralelo 204<br/>\n",
    "Campus San Joaquin"
   ]
  },
  {
   "cell_type": "markdown",
   "metadata": {
    "slideshow": {
     "slide_type": "slide"
    }
   },
   "source": [
    "# Ejercicios\n",
    "\n",
    "- Usted está jugando el conocido UNO con sus amigos. Considere que tiene varios tipos de cartas en su mano y le corresponderá hacer su jugada. Considerando como entradas la carta que está sobre la mesa y las cartas de su mano, diseñe un algoritmo que decida que carta jugará en su turno."
   ]
  },
  {
   "cell_type": "markdown",
   "metadata": {
    "slideshow": {
     "slide_type": "slide"
    }
   },
   "source": [
    "## Repaso"
   ]
  },
  {
   "cell_type": "markdown",
   "metadata": {
    "slideshow": {
     "slide_type": "fragment"
    }
   },
   "source": [
    "* **Problema**: Entrada $\\rightarrow$ Salida\n",
    "* **Algoritmo**: Secuencia de pasos para resolver un problema\n",
    "* **Programa**: Secuencia de instrucciones descritas en un lenguaje que puede ser entendido por el computador"
   ]
  },
  {
   "cell_type": "markdown",
   "metadata": {
    "slideshow": {
     "slide_type": "slide"
    }
   },
   "source": [
    "## Diagrama de Flujo\n",
    "Un diagrama de flujo es una representación gráfica de un algoritmo. "
   ]
  },
  {
   "cell_type": "markdown",
   "metadata": {
    "slideshow": {
     "slide_type": "fragment"
    }
   },
   "source": [
    "- Los pasos son representados por **varios tipos de bloques**.\n",
    "- El **flujo de ejecución** es indicado por las **flechas** que conectan los bloques."
   ]
  },
  {
   "cell_type": "markdown",
   "metadata": {
    "slideshow": {
     "slide_type": "slide"
    }
   },
   "source": [
    "## Notación de los diagramas de flujo"
   ]
  },
  {
   "cell_type": "markdown",
   "metadata": {
    "slideshow": {
     "slide_type": "fragment"
    }
   },
   "source": [
    "<b>Inicio/Fin de un algoritmo:</b>\n",
    "<div align=\"center\">\n",
    "<img src=\"images/inicio_fin.png\" width=\"30%\" height=\"30%\">\n",
    "</div>"
   ]
  },
  {
   "cell_type": "markdown",
   "metadata": {
    "collapsed": true,
    "slideshow": {
     "slide_type": "fragment"
    }
   },
   "source": [
    "**Proceso:** operaciones, asignaciones\n",
    "<div align=\"center\">\n",
    "<img src=\"images/proceso.png\" width=\"20%\" height=\"20%\">\n",
    "</div>"
   ]
  },
  {
   "cell_type": "markdown",
   "metadata": {
    "slideshow": {
     "slide_type": "slide"
    }
   },
   "source": [
    "**Entrada/Salida de datos**\n",
    "<div align=\"center\">\n",
    "<img src=\"images/leer_escribir.png\" width=\"30%\" height=\"30%\">\n",
    "</div>"
   ]
  },
  {
   "cell_type": "markdown",
   "metadata": {
    "slideshow": {
     "slide_type": "fragment"
    }
   },
   "source": [
    "**Condiciones:** el algoritmo debe seguir uno de dos caminos posibles\n",
    "<div align=\"center\">\n",
    "<img src=\"images/condicion.png\" width=\"20%\" height=\"20%\">\n",
    "</div>"
   ]
  },
  {
   "cell_type": "markdown",
   "metadata": {
    "collapsed": true,
    "slideshow": {
     "slide_type": "slide"
    }
   },
   "source": [
    "**Ejemplo**:\n",
    "<div align=\"center\">\n",
    "<img src=\"images/ejemplo1_df.png\" width=\"50%\" height=\"50%\">\n",
    "</div>\n",
    "<br/>\n",
    "¿Qué realiza este diagrama de flujo?"
   ]
  },
  {
   "cell_type": "markdown",
   "metadata": {
    "collapsed": true,
    "slideshow": {
     "slide_type": "slide"
    }
   },
   "source": [
    "## Estructuras que componen un problema"
   ]
  },
  {
   "cell_type": "markdown",
   "metadata": {
    "slideshow": {
     "slide_type": "fragment"
    }
   },
   "source": [
    "- Estructuras secuenciales\n",
    "- Estructuras condicionales\n",
    "- Estructuras repetitivas (ciclos)"
   ]
  },
  {
   "cell_type": "markdown",
   "metadata": {
    "slideshow": {
     "slide_type": "slide"
    }
   },
   "source": [
    "### Estructuras secuenciales\n",
    "<br/>\n",
    "<div align=\"center\">\n",
    "<img src=\"images/ejemplo2_sec.png\" width=\"20%\" height=\"20%\">\n",
    "</div>"
   ]
  },
  {
   "cell_type": "markdown",
   "metadata": {
    "slideshow": {
     "slide_type": "slide"
    }
   },
   "source": [
    "### Estructuras condicionales\n",
    "<br/>\n",
    "<div align=\"center\">\n",
    "<img src=\"images/ejemplo3_cond.png\" width=\"50%\" height=\"50%\">\n",
    "</div>"
   ]
  },
  {
   "cell_type": "markdown",
   "metadata": {
    "slideshow": {
     "slide_type": "slide"
    }
   },
   "source": [
    "### Estructuras repetitivas\n",
    "<br/>\n",
    "<div align=\"center\" width=\"10%\">\n",
    "<img src=\"images/ejemplo4_ciclo.png\" width=\"50%\" height=\"50%\">\n",
    "</div>"
   ]
  },
  {
   "cell_type": "markdown",
   "metadata": {
    "slideshow": {
     "slide_type": "slide"
    }
   },
   "source": [
    "## Ejercicio 1\n",
    "\n",
    "Usando la notación de diagrama de flujo diseñe un algoritmo para determinar si un número natural $n$ es mágico o no. \n",
    "<br/>\n",
    "<br/>\n",
    "**Número Mágico**: se dice que un número es mágico cuando la suma de sus divisores es igual al número. En la suma no se debe considerar al mismo número como divisor. Por ejemplo:\n",
    "\n",
    "- $28 = 1 + 2 + 4 + 7 + 14$ $\\rightarrow$ es un número mágico.\n",
    "- $32 \\neq 1 + 2 + 4 + 8 + 16$ $\\rightarrow$ **no** es un número mágico.\n"
   ]
  },
  {
   "cell_type": "markdown",
   "metadata": {
    "slideshow": {
     "slide_type": "slide"
    }
   },
   "source": [
    "## Más Ejercicios\n",
    "1. Diseñe un diagrama de flujo que calcule el volumen de una pirámide, dada su área basal y su altura.\n",
    "2. Diseñe un diagrama de flujo que determine si un número ingresado es par o impar.\n",
    "3. Diseñe un diagrama de flujo que cuente cuántas veces necesita lanzar una moneda para que le salga cara. Puede considerar como entrada una(s) moneda(s) que solo tienen como valores posibles: cara y sello."
   ]
  },
  {
   "cell_type": "code",
   "execution_count": null,
   "metadata": {
    "slideshow": {
     "slide_type": "skip"
    }
   },
   "outputs": [],
   "source": []
  }
 ],
 "metadata": {
  "anaconda-cloud": {},
  "celltoolbar": "Slideshow",
  "kernelspec": {
   "display_name": "Python 3",
   "language": "python",
   "name": "python3"
  },
  "language_info": {
   "codemirror_mode": {
    "name": "ipython",
    "version": 3
   },
   "file_extension": ".py",
   "mimetype": "text/x-python",
   "name": "python",
   "nbconvert_exporter": "python",
   "pygments_lexer": "ipython3",
   "version": "3.6.5"
  }
 },
 "nbformat": 4,
 "nbformat_minor": 1
}
