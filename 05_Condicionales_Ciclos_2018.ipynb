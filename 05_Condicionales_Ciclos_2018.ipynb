{
 "cells": [
  {
   "cell_type": "markdown",
   "metadata": {
    "slideshow": {
     "slide_type": "slide"
    }
   },
   "source": [
    "\n",
    "<img src=\"images/utfsm.png\" alt=\"\" width=\"200px\" align=\"right\"/>\n",
    "\n",
    "<br/>\n",
    "\n",
    "# IWI131 Programación\n",
    "Condicionales y Ciclos<br/>\n",
    "Cristopher Arenas<br/>\n",
    "cristopher.arenas@usm.cl<br/>\n",
    "\n",
    "<br/>\n",
    "Paralelo 204<br/>\n",
    "Campus San Joaquin"
   ]
  },
  {
   "cell_type": "markdown",
   "metadata": {
    "slideshow": {
     "slide_type": "slide"
    }
   },
   "source": [
    "## Sentencias Condicionales"
   ]
  },
  {
   "cell_type": "markdown",
   "metadata": {
    "slideshow": {
     "slide_type": "fragment"
    }
   },
   "source": [
    "### Condicional `if`\n",
    "La sentencia `if` ejecuta las instrucciones solo si se cumple una condición. Si la condición es falsa no se hace nada"
   ]
  },
  {
   "cell_type": "markdown",
   "metadata": {
    "collapsed": true,
    "slideshow": {
     "slide_type": "fragment"
    }
   },
   "source": [
    "**Sintaxis:**\n",
    "```python\n",
    "if condicion:\n",
    "    sentencias\n",
    "```"
   ]
  },
  {
   "cell_type": "markdown",
   "metadata": {
    "slideshow": {
     "slide_type": "slide"
    }
   },
   "source": [
    "## Condicional if: Diagrama de flujo equivalente\n",
    "<center>\n",
    "<img src=\"images/if.png\" width=\"40%\">\n",
    "</center>"
   ]
  },
  {
   "cell_type": "markdown",
   "metadata": {
    "slideshow": {
     "slide_type": "slide"
    }
   },
   "source": [
    "## Ejemplos"
   ]
  },
  {
   "cell_type": "code",
   "execution_count": 1,
   "metadata": {
    "slideshow": {
     "slide_type": "fragment"
    }
   },
   "outputs": [
    {
     "name": "stdout",
     "output_type": "stream",
     "text": [
      "Ingrese su nota: 40\n"
     ]
    }
   ],
   "source": [
    "nota = int(raw_input(\"Ingrese su nota: \"))\n",
    "if nota >= 55:\n",
    "    print \"Felicitaciones\""
   ]
  },
  {
   "cell_type": "code",
   "execution_count": 2,
   "metadata": {
    "slideshow": {
     "slide_type": "fragment"
    }
   },
   "outputs": [
    {
     "name": "stdout",
     "output_type": "stream",
     "text": [
      "Ingrese su nota: 70\n",
      "Felicitaciones\n"
     ]
    }
   ],
   "source": [
    "nota = int(raw_input(\"Ingrese su nota: \"))\n",
    "if nota >= 55:\n",
    "    print \"Felicitaciones\""
   ]
  },
  {
   "cell_type": "markdown",
   "metadata": {
    "slideshow": {
     "slide_type": "slide"
    }
   },
   "source": [
    "### Condicional `if-else`\n",
    "La sentencia `if-else` decide que instrucciones ejecutar, dependiendo si una condición es verdadera o falsa."
   ]
  },
  {
   "cell_type": "markdown",
   "metadata": {
    "slideshow": {
     "slide_type": "fragment"
    }
   },
   "source": [
    "**Sintaxis:**\n",
    "```python\n",
    "if condicion:\n",
    "    sentencias cuando la condicion es verdadera\n",
    "else:\n",
    "    sentencias cuando la condicion es falsa\n",
    "```"
   ]
  },
  {
   "cell_type": "markdown",
   "metadata": {
    "slideshow": {
     "slide_type": "slide"
    }
   },
   "source": [
    "## Condicional if-else: Diagrama de flujo equivalente\n",
    "<center>\n",
    "<img src=\"images/if-else.png\" width=\"40%\">\n",
    "</center>"
   ]
  },
  {
   "cell_type": "markdown",
   "metadata": {
    "slideshow": {
     "slide_type": "slide"
    }
   },
   "source": [
    "## Ejemplos"
   ]
  },
  {
   "cell_type": "code",
   "execution_count": 3,
   "metadata": {
    "slideshow": {
     "slide_type": "fragment"
    }
   },
   "outputs": [
    {
     "name": "stdout",
     "output_type": "stream",
     "text": [
      "Cual es su edad? 18\n",
      "Usted es adulto\n"
     ]
    }
   ],
   "source": [
    "edad = int(raw_input(\"Cual es su edad? \"))\n",
    "if edad < 18:\n",
    "    print \"Usted es menor de edad\"\n",
    "else:\n",
    "    print \"Usted es adulto\""
   ]
  },
  {
   "cell_type": "code",
   "execution_count": 4,
   "metadata": {
    "slideshow": {
     "slide_type": "fragment"
    }
   },
   "outputs": [
    {
     "name": "stdout",
     "output_type": "stream",
     "text": [
      "Cual es su edad? 10\n",
      "Usted es menor de edad\n"
     ]
    }
   ],
   "source": [
    "edad = int(raw_input(\"Cual es su edad? \"))\n",
    "if edad < 18:\n",
    "    print \"Usted es menor de edad\"\n",
    "else:\n",
    "    print \"Usted es adulto\""
   ]
  },
  {
   "cell_type": "markdown",
   "metadata": {
    "slideshow": {
     "slide_type": "slide"
    }
   },
   "source": [
    "¿Qué mensajes se muestran en el siguiente código si ingresamos...?\n",
    "1. n = 15\n",
    "2. n = 20"
   ]
  },
  {
   "cell_type": "code",
   "execution_count": 5,
   "metadata": {
    "slideshow": {
     "slide_type": "fragment"
    }
   },
   "outputs": [
    {
     "name": "stdout",
     "output_type": "stream",
     "text": [
      "Ingrese un numero: 15\n",
      "El numero es impar\n",
      "El sucesor del numero es 16\n",
      "Listo\n"
     ]
    }
   ],
   "source": [
    "n = int(raw_input(\"Ingrese un numero: \"))\n",
    "if n%2==0:\n",
    "    print \"El numero es par\"\n",
    "    print \"La mitad del numero es\",n/2\n",
    "else:\n",
    "    print \"El numero es impar\"\n",
    "    print \"El sucesor del numero es\",n+1\n",
    "print \"Listo\""
   ]
  },
  {
   "cell_type": "code",
   "execution_count": 6,
   "metadata": {
    "slideshow": {
     "slide_type": "fragment"
    }
   },
   "outputs": [
    {
     "name": "stdout",
     "output_type": "stream",
     "text": [
      "Ingrese un numero: 20\n",
      "El numero es par\n",
      "La mitad del numero es 10\n",
      "Listo\n"
     ]
    }
   ],
   "source": [
    "n = int(raw_input(\"Ingrese un numero: \"))\n",
    "if n%2==0:\n",
    "    print \"El numero es par\"\n",
    "    print \"La mitad del numero es\",n/2\n",
    "else:\n",
    "    print \"El numero es impar\"\n",
    "    print \"El sucesor del numero es\",n+1\n",
    "print \"Listo\""
   ]
  },
  {
   "cell_type": "markdown",
   "metadata": {
    "slideshow": {
     "slide_type": "slide"
    }
   },
   "source": [
    "### Condicional `if-elif-else`\n",
    "La sentencia `if-elif-else` depende de dos o más condiciones, que son evaluadas en orden. La primera que sea verdadera determina qué instrucciones son ejecutadas."
   ]
  },
  {
   "cell_type": "markdown",
   "metadata": {
    "slideshow": {
     "slide_type": "fragment"
    }
   },
   "source": [
    "**Sintaxis:**\n",
    "```python\n",
    "if cond1:\n",
    "    sentencias a ejecutar si cond1 es verdadera\n",
    "elif cond2:\n",
    "    sentencias a ejecutar si cond2 es verdadera\n",
    "elif cond3:\n",
    "    sentencias a ejecutar si cond3 es verdadera\n",
    "...\n",
    "else:\n",
    "    sentencias cuando ninguna condicion anterior es verdadera\n",
    "```"
   ]
  },
  {
   "cell_type": "markdown",
   "metadata": {
    "slideshow": {
     "slide_type": "slide"
    }
   },
   "source": [
    "## Condicional if-elif-else: Diagrama de flujo equivalente\n",
    "<center>\n",
    "<img src=\"images/if-elif-else.png\">\n",
    "</center>"
   ]
  },
  {
   "cell_type": "markdown",
   "metadata": {
    "slideshow": {
     "slide_type": "slide"
    }
   },
   "source": [
    "Considerar la siguiente tabla que muestra la tasa de impuesto a pagar por una persona según su sueldo."
   ]
  },
  {
   "cell_type": "markdown",
   "metadata": {
    "slideshow": {
     "slide_type": "fragment"
    }
   },
   "source": [
    "<center>\n",
    "<img src=\"images/tabla1.png\">\n",
    "</center>"
   ]
  },
  {
   "cell_type": "markdown",
   "metadata": {
    "slideshow": {
     "slide_type": "slide"
    }
   },
   "source": [
    "Un ejemplo de como se calcula el impuesto sería el siguiente:"
   ]
  },
  {
   "cell_type": "code",
   "execution_count": 2,
   "metadata": {
    "slideshow": {
     "slide_type": "fragment"
    }
   },
   "outputs": [
    {
     "name": "stdout",
     "output_type": "stream",
     "text": [
      "Ingrese su sueldo: 4500\n",
      " caso falso\n",
      "Usted debe pagar 540 de impuesto\n"
     ]
    }
   ],
   "source": [
    "sueldo = int(raw_input(\"Ingrese su sueldo: \"))\n",
    "if sueldo < 1000:\n",
    "    print \"caso 1\"\n",
    "    tasa = 0.00\n",
    "elif sueldo < 2000:\n",
    "    print \"caso 2\"\n",
    "    tasa = 0.05\n",
    "elif sueldo < 4000:\n",
    "    print \"caso 3\"\n",
    "    tasa = 0.10\n",
    "else:\n",
    "    print \"caso falso\"\n",
    "    tasa = 0.12\n",
    "print \"Usted debe pagar\", int(tasa*sueldo), \"de impuesto\""
   ]
  },
  {
   "cell_type": "markdown",
   "metadata": {
    "slideshow": {
     "slide_type": "slide"
    }
   },
   "source": [
    "Otra forma de calcular el impuesto es la siguiente:"
   ]
  },
  {
   "cell_type": "code",
   "execution_count": 9,
   "metadata": {
    "slideshow": {
     "slide_type": "fragment"
    }
   },
   "outputs": [
    {
     "name": "stdout",
     "output_type": "stream",
     "text": [
      "Ingrese su sueldo: 500\n",
      "caso 1\n",
      "Usted debe pagar 0 de impuesto\n"
     ]
    }
   ],
   "source": [
    "sueldo = int(raw_input(\"Ingrese su sueldo: \"))\n",
    "if sueldo < 1000: #1000 > sueldo:\n",
    "    print \"caso 1\"\n",
    "    tasa = 0.00\n",
    "if sueldo >= 1000 and sueldo < 2000: #if 1000 <= sueldo < 2000:\n",
    "    print \"caso 2\"\n",
    "    tasa = 0.05\n",
    "if 2000 <= sueldo < 4000:\n",
    "    print \"caso 3\"\n",
    "    tasa = 0.10\n",
    "if 4000 <= sueldo: #sueldo>= 4000\n",
    "    print \"caso falso\"\n",
    "    tasa = 0.12\n",
    "print \"Usted debe pagar\", int(tasa*sueldo), \"de impuesto\""
   ]
  },
  {
   "cell_type": "markdown",
   "metadata": {
    "slideshow": {
     "slide_type": "fragment"
    }
   },
   "source": [
    "¿En qué se diferencian los dos programas anteriores?"
   ]
  },
  {
   "cell_type": "markdown",
   "metadata": {
    "slideshow": {
     "slide_type": "slide"
    }
   },
   "source": [
    "### Ciclo while\n",
    "El ciclo `while` ejecuta una secuencia de instrucciones mientras una condición sea verdadera."
   ]
  },
  {
   "cell_type": "markdown",
   "metadata": {
    "slideshow": {
     "slide_type": "fragment"
    }
   },
   "source": [
    "**Sintaxis:**\n",
    "```python\n",
    "while cond:\n",
    "    sentencias mientras la cond sea verdadera\n",
    "```"
   ]
  },
  {
   "cell_type": "markdown",
   "metadata": {
    "slideshow": {
     "slide_type": "slide"
    }
   },
   "source": [
    "## Ciclo while: Diagrama de flujo equivalente\n",
    "<center>\n",
    "<img src=\"images/while.png\" width=\"40%\">\n",
    "</center>"
   ]
  },
  {
   "cell_type": "markdown",
   "metadata": {
    "slideshow": {
     "slide_type": "fragment"
    }
   },
   "source": [
    "- **Iteración:** es una ejecución del cuerpo del ciclo. Cada vez que se ejecuten las sentencias del ciclo se habla de iteración.\n",
    "- La condición es evaluada antes de cada iteración.\n",
    "- Si la condición es inicialmente falsa, el ciclo no se ejecutará ninguna vez."
   ]
  },
  {
   "cell_type": "code",
   "execution_count": 10,
   "metadata": {
    "slideshow": {
     "slide_type": "slide"
    }
   },
   "outputs": [
    {
     "name": "stdout",
     "output_type": "stream",
     "text": [
      "m: 3\n",
      "n: 5\n",
      "El producto de m y n es 15\n"
     ]
    }
   ],
   "source": [
    "m = int(raw_input(\"m: \"))\n",
    "n = int(raw_input(\"n: \"))\n",
    "k = 0\n",
    "while m > 0:\n",
    "    m = m - 1 \n",
    "    k = k + n\n",
    "print \"El producto de m y n es\",k"
   ]
  },
  {
   "cell_type": "markdown",
   "metadata": {
    "slideshow": {
     "slide_type": "fragment"
    }
   },
   "source": [
    "En el ejemplo anterior, ¿cómo se asegura que en algún momento se termine el ciclo?"
   ]
  },
  {
   "cell_type": "markdown",
   "metadata": {
    "slideshow": {
     "slide_type": "slide"
    }
   },
   "source": [
    "## Uso de Ciclos\n",
    "\n",
    "¿Necesito usar un ciclo? <br/><br/>\n",
    "\n",
    "Evaluar si en las siguientes situaciones deberíamos usar un ciclo. "
   ]
  },
  {
   "cell_type": "markdown",
   "metadata": {
    "slideshow": {
     "slide_type": "fragment"
    }
   },
   "source": [
    "**1.** Escribir un programa que sume los números pares del 1 al 20."
   ]
  },
  {
   "cell_type": "code",
   "execution_count": 11,
   "metadata": {
    "slideshow": {
     "slide_type": "fragment"
    }
   },
   "outputs": [
    {
     "name": "stdout",
     "output_type": "stream",
     "text": [
      "110\n"
     ]
    }
   ],
   "source": [
    "a = 2+4+6+8+10+12+14+16+18+20\n",
    "print a"
   ]
  },
  {
   "cell_type": "markdown",
   "metadata": {
    "slideshow": {
     "slide_type": "slide"
    }
   },
   "source": [
    "**1b.** Escribir un programa que sume los números pares del 1 a `n`. Donde `n` debe ser un valor dado (entrada o parámetro de función). "
   ]
  },
  {
   "cell_type": "code",
   "execution_count": 16,
   "metadata": {
    "slideshow": {
     "slide_type": "fragment"
    }
   },
   "outputs": [
    {
     "name": "stdout",
     "output_type": "stream",
     "text": [
      "n: 20\n",
      "110\n"
     ]
    }
   ],
   "source": [
    "suma = 0\n",
    "n = int(raw_input(\"n: \"))\n",
    "while n%2!=0:\n",
    "    n = int(raw_input(\"n: \"))\n",
    "c = 0\n",
    "while  c < n:\n",
    "    c = c + 2\n",
    "    suma = suma + c\n",
    "print suma"
   ]
  },
  {
   "cell_type": "markdown",
   "metadata": {
    "slideshow": {
     "slide_type": "slide"
    }
   },
   "source": [
    "**2.** Escribir un programa que verifique si dos palabras inician con la letra `a`"
   ]
  },
  {
   "cell_type": "code",
   "execution_count": 3,
   "metadata": {
    "slideshow": {
     "slide_type": "fragment"
    }
   },
   "outputs": [
    {
     "name": "stdout",
     "output_type": "stream",
     "text": [
      "Palabra 1: arbol\n",
      "Palabra 2: avion\n",
      "Las dos palabras empiezan con la letra 'a'\n"
     ]
    }
   ],
   "source": [
    "palabra1 = raw_input(\"Palabra 1: \")\n",
    "palabra2 = raw_input(\"Palabra 2: \")\n",
    "\n",
    "if palabra1[0] == \"a\" and palabra2[0] == \"a\":\n",
    "    print \"Las dos palabras empiezan con la letra 'a'\""
   ]
  },
  {
   "cell_type": "markdown",
   "metadata": {
    "slideshow": {
     "slide_type": "slide"
    }
   },
   "source": [
    "**3.** Escribir un programa que determine cuántas vocales tiene una palabra."
   ]
  },
  {
   "cell_type": "code",
   "execution_count": 14,
   "metadata": {
    "slideshow": {
     "slide_type": "fragment"
    }
   },
   "outputs": [
    {
     "name": "stdout",
     "output_type": "stream",
     "text": [
      "Palabra: casa\n",
      "La palabra tiene 2 vocales\n"
     ]
    }
   ],
   "source": [
    "palabra = raw_input(\"Palabra: \")\n",
    "indice = 0\n",
    "contador = 0\n",
    "vocales = \"aeiou\"\n",
    "while len(palabra) > indice:\n",
    "    #if palabra[indice] == \"a\" or palabra[indice] == \"e\" or palabra[indice] == \"i\" or palabra[indice] == \"o\" or palabra[indice] == \"u\":\n",
    "    if palabra[indice] in vocales:\n",
    "        contador = contador + 1\n",
    "    indice = indice + 1\n",
    "print \"La palabra tiene\",contador,\"vocales\""
   ]
  },
  {
   "cell_type": "markdown",
   "metadata": {
    "slideshow": {
     "slide_type": "slide"
    }
   },
   "source": [
    "## Conclusión"
   ]
  },
  {
   "cell_type": "markdown",
   "metadata": {
    "slideshow": {
     "slide_type": "fragment"
    }
   },
   "source": [
    "- Depende. A veces hay operaciones que se deben hacer **muchas veces**.\n",
    "- Un ciclo es **recomendado** cuando una misma operación se debe repetir, pero cambiando algo ligeramente.\n",
    "- Los ciclos son útiles, pero peligrosos si no se tiene cuidado de la condición "
   ]
  },
  {
   "cell_type": "code",
   "execution_count": null,
   "metadata": {
    "slideshow": {
     "slide_type": "skip"
    }
   },
   "outputs": [],
   "source": []
  }
 ],
 "metadata": {
  "anaconda-cloud": {},
  "celltoolbar": "Slideshow",
  "kernelspec": {
   "display_name": "Python27",
   "language": "python",
   "name": "python27"
  },
  "language_info": {
   "codemirror_mode": {
    "name": "ipython",
    "version": 2
   },
   "file_extension": ".py",
   "mimetype": "text/x-python",
   "name": "python",
   "nbconvert_exporter": "python",
   "pygments_lexer": "ipython2",
   "version": "2.7.15rc1"
  }
 },
 "nbformat": 4,
 "nbformat_minor": 1
}
