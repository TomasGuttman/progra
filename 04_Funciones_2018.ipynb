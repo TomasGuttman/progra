{
 "cells": [
  {
   "cell_type": "markdown",
   "metadata": {
    "slideshow": {
     "slide_type": "slide"
    }
   },
   "source": [
    "\n",
    "<img src=\"images/utfsm.png\" alt=\"\" width=\"200px\" align=\"right\"/>\n",
    "\n",
    "<br/>\n",
    "\n",
    "# IWI131 Programación\n",
    "Funciones<br/>\n",
    "Cristopher Arenas<br/>\n",
    "cristopher.arenas@usm.cl<br/>\n",
    "\n",
    "<br/>\n",
    "Paralelo 204<br/>\n",
    "Campus San Joaquin"
   ]
  },
  {
   "cell_type": "markdown",
   "metadata": {
    "collapsed": true,
    "slideshow": {
     "slide_type": "slide"
    }
   },
   "source": [
    "# Problema\n",
    "La fuerza de atracción gravitacional entre dos planetas de masas $m_1$ y $m_2$ separados por una distancia de $r$ kilómetros está dada por la fórmula:\n",
    "\n",
    "$$\n",
    "F = G \\frac{m_1 \\, m_2}{r^2}\n",
    "$$\n",
    "\n",
    "donde $G = 6.67428 \\cdot 10^{-11} [m^3kg^{-1}s^{-2}]$ es la constante de gravitación universal.\n",
    "\n",
    "Escriba un programa que pregunte las masas de los planetas y su distancia, y entregue la fuerza de atracción entre ellas."
   ]
  },
  {
   "cell_type": "markdown",
   "metadata": {
    "slideshow": {
     "slide_type": "slide"
    }
   },
   "source": [
    "# Solución"
   ]
  },
  {
   "cell_type": "code",
   "execution_count": 4,
   "metadata": {
    "slideshow": {
     "slide_type": "fragment"
    }
   },
   "outputs": [
    {
     "name": "stdout",
     "output_type": "stream",
     "text": [
      "Ingrese m1: 3000\n",
      "Ingrese m2: 4000\n",
      "Ingrese r: 5000\n",
      "La fuerza de atraccion es 3.2036544e-11\n"
     ]
    }
   ],
   "source": [
    "# preguntar por la masa del planeta 1\n",
    "m1 = float(raw_input(\"Ingrese m1: \")) # m1 tiene un float con la masa\n",
    "\n",
    "# preguntar por la masa del planeta 2\n",
    "m2 = float(raw_input(\"Ingrese m2: \")) # m2 tiene un float con la masa\n",
    "\n",
    "# preguntar por la distancia\n",
    "r = float(raw_input(\"Ingrese r: \")) # r tiene un float con la dist\n",
    "\n",
    "#constante\n",
    "G = 6.67428*10**-11\n",
    "\n",
    "#operaciones para calcular la fuerza\n",
    "M = m1*m2\n",
    "R = r**2\n",
    "div = M/R\n",
    "F = G*div\n",
    "\n",
    "#mostrar mensaje por pantalla\n",
    "print \"La fuerza de atraccion es\",F"
   ]
  },
  {
   "cell_type": "markdown",
   "metadata": {
    "slideshow": {
     "slide_type": "slide"
    }
   },
   "source": [
    "El cálculo de la fuerza de atracción gravitacional puede ser encapsulado en una función, para poder ser utilizado en otras ocasiones."
   ]
  },
  {
   "cell_type": "code",
   "execution_count": 2,
   "metadata": {
    "slideshow": {
     "slide_type": "fragment"
    }
   },
   "outputs": [],
   "source": [
    "def cgu(masa1, masa2, radio):\n",
    "    G = 6.67428*10**-11\n",
    "    return G * masa1 * masa2 / (radio**2)"
   ]
  },
  {
   "cell_type": "code",
   "execution_count": 3,
   "metadata": {
    "slideshow": {
     "slide_type": "fragment"
    }
   },
   "outputs": [
    {
     "name": "stdout",
     "output_type": "stream",
     "text": [
      "m1: 3000\n",
      "m2: 4000\n",
      "Distancia: 5000\n",
      "La fuerza de atraccion es 3.2036544e-11\n"
     ]
    }
   ],
   "source": [
    "m1 = float(raw_input(\"m1: \"))\n",
    "m2 = float(raw_input(\"m2: \"))\n",
    "r = float(raw_input(\"Distancia: \"))\n",
    "print 'La fuerza de atraccion es', cgu(m1, m2, r)"
   ]
  },
  {
   "cell_type": "markdown",
   "metadata": {
    "slideshow": {
     "slide_type": "slide"
    }
   },
   "source": [
    "# Otra forma de usar funciones"
   ]
  },
  {
   "cell_type": "code",
   "execution_count": 5,
   "metadata": {
    "slideshow": {
     "slide_type": "fragment"
    }
   },
   "outputs": [
    {
     "name": "stdout",
     "output_type": "stream",
     "text": [
      "6.29391011309e-32\n"
     ]
    }
   ],
   "source": [
    "m1 = 25*10**4\n",
    "m2 = 23575.24\n",
    "r = 250000e10\n",
    "fuerza =  cgu(m1, m2, r)\n",
    "\n",
    "print fuerza"
   ]
  },
  {
   "cell_type": "markdown",
   "metadata": {
    "slideshow": {
     "slide_type": "slide"
    }
   },
   "source": [
    "# Funciones\n",
    "- Una función es una sección de un programa que calcula un valor de manera independiente del resto del programa.\n",
    "- Posee 3 componentes importantes:\n",
    "    1. Parámetros\n",
    "    2. Código de la función\n",
    "    3. Resultado o valor de retorno"
   ]
  },
  {
   "cell_type": "markdown",
   "metadata": {
    "slideshow": {
     "slide_type": "slide"
    }
   },
   "source": [
    "Identificar los componentes de la siguiente función:"
   ]
  },
  {
   "cell_type": "code",
   "execution_count": 10,
   "metadata": {
    "slideshow": {
     "slide_type": "fragment"
    }
   },
   "outputs": [
    {
     "name": "stdout",
     "output_type": "stream",
     "text": [
      "d = 25\n"
     ]
    }
   ],
   "source": [
    "def cuadrado(numero1, numero2):\n",
    "    c = numero1**2 +  numero2**2\n",
    "    return c\n",
    "d = cuadrado(3,4)\n",
    "print \"d =\",d"
   ]
  },
  {
   "cell_type": "code",
   "execution_count": 17,
   "metadata": {
    "slideshow": {
     "slide_type": "fragment"
    }
   },
   "outputs": [
    {
     "name": "stdout",
     "output_type": "stream",
     "text": [
      "25\n",
      "a = None\n"
     ]
    }
   ],
   "source": [
    "def cuadrado(numero1, numero2):\n",
    "    c = numero1**2 +  numero2**2\n",
    "    print c\n",
    "a = cuadrado(3,4)\n",
    "print \"a =\",a"
   ]
  },
  {
   "cell_type": "markdown",
   "metadata": {
    "slideshow": {
     "slide_type": "slide"
    }
   },
   "source": [
    "# Variables locales y globales"
   ]
  },
  {
   "cell_type": "markdown",
   "metadata": {
    "slideshow": {
     "slide_type": "fragment"
    }
   },
   "source": [
    "- **Variables locales**: \n",
    "    - Son aquellas variables creadas dentro de una función. \n",
    "    - Solo son visibles dentro de la función, no desde el resto del programa."
   ]
  },
  {
   "cell_type": "markdown",
   "metadata": {
    "slideshow": {
     "slide_type": "fragment"
    }
   },
   "source": [
    "- **Variables globales**:\n",
    "    - Son variables creadas fuera de alguna función\n",
    "    - Visibles desde cualquier parte del programa.\n",
    "    - No pueden modificarse dentro de una función porque generan una variable local con el mismo nombre."
   ]
  },
  {
   "cell_type": "markdown",
   "metadata": {
    "slideshow": {
     "slide_type": "slide"
    }
   },
   "source": [
    "# Ejercicio 1\n",
    "Escriba funciones que reciban el radio de un círculo y calculen:\n",
    "1. El perímetro del círculo: $P = 2 \\, \\pi \\, r$\n",
    "2. El área del círculo: $A = \\pi \\, r^2$"
   ]
  },
  {
   "cell_type": "code",
   "execution_count": 7,
   "metadata": {
    "slideshow": {
     "slide_type": "fragment"
    }
   },
   "outputs": [
    {
     "name": "stdout",
     "output_type": "stream",
     "text": [
      "3.14\n"
     ]
    }
   ],
   "source": [
    "pi = 3.14\n",
    "def perimetro(r):\n",
    "    P = 2*pi*r\n",
    "    return P\n",
    "\n",
    "#ejemplo\n",
    "a = perimetro(0.5)\n",
    "print a"
   ]
  },
  {
   "cell_type": "code",
   "execution_count": 8,
   "metadata": {
    "slideshow": {
     "slide_type": "fragment"
    }
   },
   "outputs": [
    {
     "name": "stdout",
     "output_type": "stream",
     "text": [
      "50.24\n"
     ]
    }
   ],
   "source": [
    "def area(r):\n",
    "    area = pi*(r**2)\n",
    "    return area\n",
    "\n",
    "#ejemplo\n",
    "b = area(4)\n",
    "print b"
   ]
  },
  {
   "cell_type": "markdown",
   "metadata": {
    "slideshow": {
     "slide_type": "slide"
    }
   },
   "source": [
    "# Ejercicio 2\n",
    "Escriba la función `promedio(n1, n2, n3)` que reciba como parámetro la nota de 3 certámenes y retorne el valor del promedio entre estas notas."
   ]
  },
  {
   "cell_type": "code",
   "execution_count": 15,
   "metadata": {
    "slideshow": {
     "slide_type": "fragment"
    }
   },
   "outputs": [
    {
     "name": "stdout",
     "output_type": "stream",
     "text": [
      "93.3333333333\n",
      "48.3333333333\n"
     ]
    }
   ],
   "source": [
    "def promedio(n1, n2, n3):\n",
    "    prom = float(n1+n2+n3)/3\n",
    "    return prom\n",
    "\n",
    "#ejemplo\n",
    "c1 = 100\n",
    "nota_final1 = promedio(c1,100,80)\n",
    "nota_final2 = promedio(20,70,55)\n",
    "print nota_final1\n",
    "print nota_final2"
   ]
  },
  {
   "cell_type": "markdown",
   "metadata": {
    "slideshow": {
     "slide_type": "fragment"
    }
   },
   "source": [
    "Realice el ruteo de la función `promedio(n1, n2, n3)`"
   ]
  },
  {
   "cell_type": "markdown",
   "metadata": {
    "slideshow": {
     "slide_type": "slide"
    }
   },
   "source": [
    "# Ejercicio 3\n",
    "Realice el ruteo del siguiente programa."
   ]
  },
  {
   "cell_type": "code",
   "execution_count": 1,
   "metadata": {
    "slideshow": {
     "slide_type": "fragment"
    }
   },
   "outputs": [
    {
     "name": "stdout",
     "output_type": "stream",
     "text": [
      "4\n"
     ]
    }
   ],
   "source": [
    "def f1(a, b):\n",
    "    return a - b\n",
    "\n",
    "def f2(b, a):\n",
    "    c = f1(a, b)\n",
    "    return c + b\n",
    "\n",
    "a = 3\n",
    "b = 4\n",
    "print f2(a, b)"
   ]
  },
  {
   "cell_type": "code",
   "execution_count": null,
   "metadata": {
    "slideshow": {
     "slide_type": "skip"
    }
   },
   "outputs": [],
   "source": []
  }
 ],
 "metadata": {
  "anaconda-cloud": {},
  "celltoolbar": "Slideshow",
  "kernelspec": {
   "display_name": "Python27",
   "language": "python",
   "name": "python27"
  },
  "language_info": {
   "codemirror_mode": {
    "name": "ipython",
    "version": 2
   },
   "file_extension": ".py",
   "mimetype": "text/x-python",
   "name": "python",
   "nbconvert_exporter": "python",
   "pygments_lexer": "ipython2",
   "version": "2.7.15rc1"
  }
 },
 "nbformat": 4,
 "nbformat_minor": 1
}
