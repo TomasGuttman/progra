{
 "cells": [
  {
   "cell_type": "markdown",
   "metadata": {
    "slideshow": {
     "slide_type": "slide"
    }
   },
   "source": [
    "\n",
    "<img src=\"images/utfsm.png\" alt=\"\" width=\"200px\" align=\"right\"/>\n",
    "\n",
    "<br/>\n",
    "\n",
    "# IWI131 Programación\n",
    "Patrones Comunes<br/>\n",
    "Cristopher Arenas<br/>\n",
    "cristopher.arenas@usm.cl<br/>\n",
    "\n",
    "<br/>\n",
    "Paralelo 204<br/>\n",
    "Campus San Joaquin"
   ]
  },
  {
   "cell_type": "markdown",
   "metadata": {
    "slideshow": {
     "slide_type": "slide"
    }
   },
   "source": [
    "**Patrón**: Solución aplicable a un prolema que ocurre a menudo."
   ]
  },
  {
   "cell_type": "markdown",
   "metadata": {
    "slideshow": {
     "slide_type": "fragment"
    }
   },
   "source": [
    "1. Sumar cosas\n",
    "2. Multiplicar cosas\n",
    "3. Contar cosas\n",
    "4. Encontrar el máximo\n",
    "5. Encontrar el mínimo\n",
    "6. Generar pares de cosas"
   ]
  },
  {
   "cell_type": "markdown",
   "metadata": {
    "slideshow": {
     "slide_type": "slide"
    }
   },
   "source": [
    "### 1. Sumar cosas"
   ]
  },
  {
   "cell_type": "markdown",
   "metadata": {
    "slideshow": {
     "slide_type": "fragment"
    }
   },
   "source": [
    "Escriba una función que reciba como parámetro un número entero. La función debe retornar la suma de los números al cuadrado desde el 1 hasta el valor ingresado como parámetro:\n",
    "$$\n",
    "1^2+2^2+\\ldots+(n-1)^2+n^2\n",
    "$$"
   ]
  },
  {
   "cell_type": "code",
   "execution_count": null,
   "metadata": {
    "slideshow": {
     "slide_type": "fragment"
    }
   },
   "outputs": [],
   "source": [
    "def suma_cuadrados(n):\n",
    "    suma = 0\n",
    "    c = 0\n",
    "    while c < n:\n",
    "        d = (c+1)**2\n",
    "        suma = suma + d\n",
    "        c = c + 1\n",
    "    return suma"
   ]
  },
  {
   "cell_type": "code",
   "execution_count": null,
   "metadata": {
    "slideshow": {
     "slide_type": "fragment"
    }
   },
   "outputs": [],
   "source": [
    "n =  3\n",
    "suma = suma_cuadrados(n)\n",
    "print suma"
   ]
  },
  {
   "cell_type": "markdown",
   "metadata": {
    "slideshow": {
     "slide_type": "slide"
    }
   },
   "source": [
    "**Sintaxis sumar cosas:**\n",
    "```Python\n",
    "suma = 0\n",
    "ciclo:\n",
    "    n = calcular()\n",
    "    suma = suma + n\n",
    "```"
   ]
  },
  {
   "cell_type": "markdown",
   "metadata": {
    "slideshow": {
     "slide_type": "fragment"
    }
   },
   "source": [
    "¿Cuáles son los elementos de este patrón?"
   ]
  },
  {
   "cell_type": "markdown",
   "metadata": {
    "slideshow": {
     "slide_type": "slide"
    }
   },
   "source": [
    "### 2. Multiplicar cosas"
   ]
  },
  {
   "cell_type": "markdown",
   "metadata": {
    "slideshow": {
     "slide_type": "fragment"
    }
   },
   "source": [
    "Escriba una función que calcule el factorial de un número $n$ ingresada como parámetro:\n",
    "$3! = 1\\cdot 2 \\cdot 3$"
   ]
  },
  {
   "cell_type": "code",
   "execution_count": null,
   "metadata": {
    "slideshow": {
     "slide_type": "fragment"
    }
   },
   "outputs": [],
   "source": [
    "def factorial(n):\n",
    "    if n == 0:\n",
    "        return 1\n",
    "    else:\n",
    "        prod = 1\n",
    "        c = 1\n",
    "        while c <= n:\n",
    "            prod  = prod * c\n",
    "            #c = c + 1\n",
    "            c += 1\n",
    "        return prod"
   ]
  },
  {
   "cell_type": "code",
   "execution_count": null,
   "metadata": {
    "slideshow": {
     "slide_type": "fragment"
    }
   },
   "outputs": [],
   "source": [
    "f = factorial(3)\n",
    "print f"
   ]
  },
  {
   "cell_type": "markdown",
   "metadata": {
    "slideshow": {
     "slide_type": "slide"
    }
   },
   "source": [
    "**Sintaxis multiplicar cosas:**\n",
    "```Python\n",
    "producto = 1\n",
    "ciclo:\n",
    "    n = calcular()\n",
    "    producto = producto * n\n",
    "```"
   ]
  },
  {
   "cell_type": "markdown",
   "metadata": {
    "slideshow": {
     "slide_type": "fragment"
    }
   },
   "source": [
    "¿Cuáles son los elementos de este patrón?"
   ]
  },
  {
   "cell_type": "markdown",
   "metadata": {
    "slideshow": {
     "slide_type": "slide"
    }
   },
   "source": [
    "### 3. Contar cosas"
   ]
  },
  {
   "cell_type": "markdown",
   "metadata": {
    "slideshow": {
     "slide_type": "fragment"
    }
   },
   "source": [
    "Escriba una función que solicite el ingreso de $n$ números, luego entregue la cantidad de números pares ingresados."
   ]
  },
  {
   "cell_type": "code",
   "execution_count": null,
   "metadata": {
    "slideshow": {
     "slide_type": "fragment"
    }
   },
   "outputs": [],
   "source": [
    "def cuenta_pares(n):\n",
    "    contador = 0\n",
    "    c = 0\n",
    "    while c < n:\n",
    "        numero = int(raw_input(\"Ingrese numero \"+str(c+1)+\": \"))\n",
    "        if numero % 2 == 0:\n",
    "            contador += 1 # lo mismo que: contador = contador + 1\n",
    "        print \"contador =\",contador\n",
    "        c += 1\n",
    "    return contador"
   ]
  },
  {
   "cell_type": "code",
   "execution_count": null,
   "metadata": {
    "slideshow": {
     "slide_type": "fragment"
    }
   },
   "outputs": [],
   "source": [
    "cuenta = cuenta_pares(3)\n",
    "print \"Hay\",cuenta,\"pares\""
   ]
  },
  {
   "cell_type": "code",
   "execution_count": null,
   "metadata": {
    "slideshow": {
     "slide_type": "slide"
    }
   },
   "outputs": [],
   "source": [
    "def cuenta_letras(texto,letra):\n",
    "    i = 0\n",
    "    contador = 0\n",
    "    while i<len(texto):\n",
    "        c = texto[i]\n",
    "        if letra == c:\n",
    "            contador += 1\n",
    "        i += 1\n",
    "    return contador"
   ]
  },
  {
   "cell_type": "code",
   "execution_count": null,
   "metadata": {
    "slideshow": {
     "slide_type": "fragment"
    }
   },
   "outputs": [],
   "source": [
    "palabra = \"casa\"\n",
    "contador1 = cuenta_letras(palabra,\"a\")\n",
    "print contador1"
   ]
  },
  {
   "cell_type": "code",
   "execution_count": null,
   "metadata": {
    "slideshow": {
     "slide_type": "fragment"
    }
   },
   "outputs": [],
   "source": [
    "#la funcion no cuenta correctamente en este caso\n",
    "contador2 = cuenta_letras(palabra,\"ca\")\n",
    "print contador2"
   ]
  },
  {
   "cell_type": "markdown",
   "metadata": {
    "slideshow": {
     "slide_type": "fragment"
    }
   },
   "source": [
    "¿Cómo podría modificarse la función que cuenta letras para que cuente correctamente?"
   ]
  },
  {
   "cell_type": "markdown",
   "metadata": {
    "slideshow": {
     "slide_type": "slide"
    }
   },
   "source": [
    "**Sintaxis contar cosas:**\n",
    "```Python\n",
    "cuenta = 0\n",
    "ciclo:\n",
    "    if condicion:\n",
    "        cuenta = cuenta + 1\n",
    "```"
   ]
  },
  {
   "cell_type": "markdown",
   "metadata": {
    "slideshow": {
     "slide_type": "fragment"
    }
   },
   "source": [
    "¿Cuáles son los elementos de este patrón?"
   ]
  },
  {
   "cell_type": "markdown",
   "metadata": {
    "slideshow": {
     "slide_type": "slide"
    }
   },
   "source": [
    "### 4. Encontrar el máximo"
   ]
  },
  {
   "cell_type": "markdown",
   "metadata": {
    "slideshow": {
     "slide_type": "fragment"
    }
   },
   "source": [
    "Escribir un programa que solicite n números y luego muestre el número mayor que haya sido ingresado."
   ]
  },
  {
   "cell_type": "markdown",
   "metadata": {
    "slideshow": {
     "slide_type": "fragment"
    }
   },
   "source": [
    "**Opción 1:** usando un número muy pequeño para comparar."
   ]
  },
  {
   "cell_type": "code",
   "execution_count": null,
   "metadata": {
    "slideshow": {
     "slide_type": "fragment"
    }
   },
   "outputs": [],
   "source": [
    "n = int(raw_input(\"Ingrese n: \"))\n",
    "i = 1\n",
    "mayor = float(\"-Inf\")\n",
    "while i <= n:\n",
    "    mensaje = \"Ingrese numero: \"\n",
    "    numero =  float(raw_input(mensaje))\n",
    "    if mayor < numero:\n",
    "        mayor = numero\n",
    "    i += 1\n",
    "print \"El numero mayor es\",mayor"
   ]
  },
  {
   "cell_type": "markdown",
   "metadata": {
    "slideshow": {
     "slide_type": "slide"
    }
   },
   "source": [
    "**Opción 2:** sin usar número muy pequeño para comparar."
   ]
  },
  {
   "cell_type": "code",
   "execution_count": null,
   "metadata": {
    "slideshow": {
     "slide_type": "fragment"
    }
   },
   "outputs": [],
   "source": [
    "n = int(raw_input(\"Ingrese n: \"))\n",
    "i = 1\n",
    "while i <= n:\n",
    "    mensaje = \"Ingrese numero: \"\n",
    "    numero =  float(raw_input(mensaje))\n",
    "    if i == 1:\n",
    "        mayor = numero\n",
    "    elif mayor < numero:\n",
    "        mayor = numero\n",
    "    i += 1\n",
    "print \"El numero mayor es\",mayor"
   ]
  },
  {
   "cell_type": "markdown",
   "metadata": {
    "slideshow": {
     "slide_type": "slide"
    }
   },
   "source": [
    "### **Sintaxis encontrar el máximo:**\n",
    "```Python\n",
    "mayor = numero_muy_chico\n",
    "ciclo:\n",
    "    n = calcular()\n",
    "    if n > mayor:\n",
    "        mayor = n\n",
    "```"
   ]
  },
  {
   "cell_type": "markdown",
   "metadata": {
    "slideshow": {
     "slide_type": "fragment"
    }
   },
   "source": [
    "¿Cuáles son los elementos de este patrón?"
   ]
  },
  {
   "cell_type": "markdown",
   "metadata": {
    "slideshow": {
     "slide_type": "slide"
    }
   },
   "source": [
    "### 5. Encontrar el mínimo"
   ]
  },
  {
   "cell_type": "markdown",
   "metadata": {
    "slideshow": {
     "slide_type": "fragment"
    }
   },
   "source": [
    "¿Cómo cambia el patrón anterior si ahora se quiere encontrar el mínimo?"
   ]
  },
  {
   "cell_type": "code",
   "execution_count": null,
   "metadata": {
    "slideshow": {
     "slide_type": "fragment"
    }
   },
   "outputs": [],
   "source": [
    "n = int(raw_input(\"Ingrese n: \"))\n",
    "i = 1\n",
    "menor = float(\"Inf\")\n",
    "while i <= n:\n",
    "    mensaje = \"Ingrese numero: \"\n",
    "    numero =  float(raw_input(mensaje))\n",
    "    if menor > numero:\n",
    "        menor = numero\n",
    "    i += 1\n",
    "print \"El numero menor es\",menor"
   ]
  },
  {
   "cell_type": "markdown",
   "metadata": {
    "slideshow": {
     "slide_type": "fragment"
    }
   },
   "source": [
    "**Sintaxis encontrar el mínimo:**\n",
    "```Python\n",
    "menor = numero_muy_grande\n",
    "ciclo:\n",
    "    n = calcular()\n",
    "    if n < menor:\n",
    "        menor = n\n",
    "```"
   ]
  },
  {
   "cell_type": "markdown",
   "metadata": {
    "slideshow": {
     "slide_type": "slide"
    }
   },
   "source": [
    "### 6. Generar Pares de cosas"
   ]
  },
  {
   "cell_type": "markdown",
   "metadata": {
    "slideshow": {
     "slide_type": "fragment"
    }
   },
   "source": [
    "Escribir un programa que muestre todas las combinaciones posibles al lanzar 2 dados."
   ]
  },
  {
   "cell_type": "code",
   "execution_count": null,
   "metadata": {
    "scrolled": false,
    "slideshow": {
     "slide_type": "fragment"
    }
   },
   "outputs": [],
   "source": [
    "n = 6\n",
    "m = 6\n",
    "i = 0\n",
    "contador = 0\n",
    "while i < n:\n",
    "    j = 0\n",
    "    i += 1\n",
    "    while j < m:\n",
    "        j += 1\n",
    "        contador +=1\n",
    "        print i,j"
   ]
  },
  {
   "cell_type": "code",
   "execution_count": null,
   "metadata": {
    "slideshow": {
     "slide_type": "skip"
    }
   },
   "outputs": [],
   "source": []
  }
 ],
 "metadata": {
  "anaconda-cloud": {},
  "celltoolbar": "Slideshow",
  "kernelspec": {
   "display_name": "Python 3",
   "language": "python",
   "name": "python3"
  },
  "language_info": {
   "codemirror_mode": {
    "name": "ipython",
    "version": 3
   },
   "file_extension": ".py",
   "mimetype": "text/x-python",
   "name": "python",
   "nbconvert_exporter": "python",
   "pygments_lexer": "ipython3",
   "version": "3.6.5"
  }
 },
 "nbformat": 4,
 "nbformat_minor": 1
}
